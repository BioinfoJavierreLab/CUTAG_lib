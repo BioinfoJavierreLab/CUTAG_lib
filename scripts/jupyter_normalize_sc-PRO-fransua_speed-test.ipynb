{
 "cells": [
  {
   "cell_type": "code",
   "execution_count": 1,
   "id": "bd6153f4",
   "metadata": {},
   "outputs": [
    {
     "name": "stderr",
     "output_type": "stream",
     "text": [
      "/home/fransua/.miniconda3/envs/sc/lib/python3.10/site-packages/tqdm/auto.py:21: TqdmWarning: IProgress not found. Please update jupyter and ipywidgets. See https://ipywidgets.readthedocs.io/en/stable/user_install.html\n",
      "  from .autonotebook import tqdm as notebook_tqdm\n"
     ]
    }
   ],
   "source": [
    "#! /usr/bin/env python\n",
    "\n",
    "import os\n",
    "from argparse     import ArgumentParser\n",
    "\n",
    "from yaml import Loader, load\n",
    "\n",
    "import numpy as np\n",
    "from scipy import sparse\n",
    "from scipy import odr\n",
    "import pandas as pd\n",
    "import bioframe as bf\n",
    "from sklearn.metrics import v_measure_score, adjusted_rand_score\n",
    "\n",
    "from matplotlib import pyplot as plt\n",
    "\n",
    "import anndata as ad\n",
    "import scanpy as sc\n",
    "import muon as mu\n",
    "#import scrublet as scr\n",
    "\n",
    "import networkx as nx\n",
    "\n",
    "from cutag.parsers.cellranger import load_cellranger, load_ADTs\n",
    "from cutag.utilities.clustering import wanted_leiden\n",
    "from cutag.stats.metrics import ragi_score\n",
    "\n",
    "from threadpoolctl import threadpool_limits"
   ]
  },
  {
   "cell_type": "code",
   "execution_count": 2,
   "id": "c404b5a8",
   "metadata": {},
   "outputs": [],
   "source": [
    "def jacind(M1, M2, p=2, binarize=False):\n",
    "    if binarize:\n",
    "        M1 = (M1 > 0).astype(int)\n",
    "        M2 = (M2 > 0).astype(int)\n",
    "    M1 = np.squeeze(np.asarray(M1.todense()))\n",
    "    M2 = np.squeeze(np.asarray(M2.todense()))\n",
    "    d12 = ((abs(M1 - M2)**p).sum())**(1 / p)\n",
    "    E = ((M1**p).sum() + (M2**p).sum())**(1 / p)\n",
    "    return (E - d12) / E\n",
    "\n",
    "def linear_func(p, x):\n",
    "   m, c = p\n",
    "   return m * x + c\n",
    "\n",
    "def merge_adjacent_bins(adata):\n",
    "    prevc, p = adata.var.index[0].split(':')\n",
    "    prevb, preve = p.split('-')\n",
    "    ns = []\n",
    "    list_of_lists = []\n",
    "    list_of_lists_idx = []\n",
    "    for n, peak in enumerate(adata.var.index[1:]):\n",
    "        c, p = peak.split(':')\n",
    "        b, e = p.split('-')\n",
    "        if b == preve and c == prevc:\n",
    "            ns.append(n)\n",
    "        else:\n",
    "            list_of_lists.append(f\"{prevc}:{prevb}-{preve}\")\n",
    "            list_of_lists_idx.append(ns + [n])\n",
    "            prevc, prevb = c, b\n",
    "            ns = []\n",
    "        preve = e\n",
    "    list_of_lists.append(f\"{prevc}:{prevb}-{e}\")\n",
    "    list_of_lists_idx.append(ns + [n + 1])\n",
    "\n",
    "    adata.X = adata.X.tocsc()  # this will speed up column peeking\n",
    "    tmpX = adata.X.toarray()\n",
    "    tmp = np.vstack([tmpX[:,idx].sum(axis=1) for idx in list_of_lists_idx]).T\n",
    "    \n",
    "    bdata = ad.AnnData(X=tmp, obs=adata.obs, dtype=tmp.dtype)\n",
    "    bdata.var_names = list_of_lists\n",
    "\n",
    "    return bdata\n",
    "\n",
    "def normalize_TFIDF(adata, bgpath):\n",
    "    # Get BG counts of genomic library\n",
    "    process_line = lambda barcode, bg_count: (barcode, int(bg_count)) \n",
    "    bg_dict = dict(process_line(*l.split()) for l in open(bgpath, \"r\"))\n",
    "    adata.obs[\"bg_counts\"] = adata.obs.index.map(bg_dict)\n",
    "\n",
    "    adata = merge_adjacent_bins(adata)\n",
    "    # Normalize by TF-IDF\n",
    "    N = len(adata.obs)\n",
    "    ni = adata.X.sum(axis=0)\n",
    "    Cij = adata.X\n",
    "    Fj = adata.obs['bg_counts'].to_numpy()[:,None]\n",
    "\n",
    "    adata.X = sparse.csr_matrix(\n",
    "                    np.log(\n",
    "                        (Cij / Fj) * (N / ni) * 10_000 + 1\n",
    "                    )\n",
    "                ).tocsc()  # this will speed up most computation\n",
    "    # check!\n",
    "    # print(adata.X.toarray().sum())\n",
    "\n",
    "\n",
    "def normalize_CLR(ad_adts):\n",
    "    \"\"\"\n",
    "    fancy way to divide by the total of each ADT accross cells\n",
    "     -> to remove ADT specific bias\n",
    "    \"\"\"\n",
    "    # compute geometric mean per ADT\n",
    "    lna = np.log1p(ad_adts.X)  # we do the same as Satija\n",
    "    n = lna.shape[0]\n",
    "    geommeanADT = [np.exp(lna[:,i].sum() / n) for i in range(lna.shape[1])]\n",
    "\n",
    "    # Normalize each ADT count by its geometric mean\n",
    "    ad_adts.X /= geommeanADT"
   ]
  },
  {
   "cell_type": "code",
   "execution_count": 54,
   "id": "7d72b72b",
   "metadata": {},
   "outputs": [],
   "source": [
    "wnn = False  # set to False for faster analysis\n",
    "\n",
    "sampleID = \"1019\"\n",
    "\n",
    "data_dir = \"/scratch2/shared/CUTAG/data/\"\n",
    "\n",
    "try:\n",
    "    samples = load(open(\"/scratch2/shared/CUTAG/data/samples.yml\"), Loader)[sampleID]\n",
    "except KeyError:\n",
    "    raise Exception(f'ERROR: {sampleID} not in sample YAML file')\n",
    "\n",
    "\n",
    "\n",
    "dpath = os.path.join(data_dir, samples[\"modality\"])"
   ]
  },
  {
   "cell_type": "code",
   "execution_count": 55,
   "id": "b0e1649b",
   "metadata": {},
   "outputs": [],
   "source": [
    "genomic_sample = os.path.join(dpath, sampleID)\n",
    "\n",
    "adt_sampleID   = samples['ADT']\n",
    "adt_sample     = os.path.join(dpath, adt_sampleID)\n",
    "outdir         = 'lala'\n",
    "\n",
    "regress_count  = \"bg\"\n",
    "feature_type   = \"peaks\"\n",
    "n_neighbors    = samples['optimal params']['n_neighbors']\n",
    "\n",
    "seed           = None\n",
    "\n",
    "min_cells      = samples['optimal params']['min_cells']\n",
    "min_genes      = samples['optimal params']['min_genes']\n",
    "max_genes      = samples['optimal params']['max_genes']\n",
    "min_counts     = samples['optimal params']['min_counts']\n",
    "max_counts     = samples['optimal params']['max_counts']\n",
    "\n",
    "min_genes_adt  = samples['optimal params']['min_genes_adt']\n",
    "min_counts_adt = samples['optimal params']['min_counts_adt']\n",
    "max_counts_adt = samples['optimal params']['max_counts_adt']\n",
    "\n",
    "if samples[\"modality\"] == \"CITE\":\n",
    "    max_mito    = samples['optimal params']['max_mito']\n",
    "    min_n_genes = samples['optimal params']['min_n_genes']\n",
    "    max_n_genes = samples['optimal params']['max_n_genes']    \n",
    "\n",
    "n_leiden        = samples['optimal params']['n_leiden']\n",
    "\n",
    "rm_pca          = samples['optimal params']['rm_pca']\n",
    "\n",
    "n_pcs           = samples['optimal params']['n_pcs']\n",
    "bg              = \"bg\"\n",
    "normalize_total = True"
   ]
  },
  {
   "cell_type": "code",
   "execution_count": 56,
   "id": "6df9a485",
   "metadata": {},
   "outputs": [
    {
     "name": "stdout",
     "output_type": "stream",
     "text": [
      "Processing 1019\n",
      " - Loading Genomic library\n"
     ]
    }
   ],
   "source": [
    "# long long output directory name\n",
    "dname = f\"LEIDEN{n_leiden}_{sampleID}_MIN-CELLS{min_cells}\"\n",
    "dname += f\"_MIN-GENES{min_genes}_MAX-GENES{max_genes}\"\n",
    "dname += f\"_MIN-COUNTS{min_counts}_MAX-COUNTS{max_counts}_PCA{rm_pca}\"\n",
    "dname += f\"_NPCS{n_pcs}_NEIGHB{n_neighbors}_REGRESS-{regress_count}\"\n",
    "if seed is not None:\n",
    "    dname += f\"_SEED{seed}\"\n",
    "outdir          = os.path.join(outdir, dname)\n",
    "\n",
    "if os.path.exists(os.path.join(outdir, f\"{sampleID}.h5mu\")):\n",
    "    print('Skipped...')\n",
    "    exit()\n",
    "\n",
    "print(f\"Processing {sampleID}\")\n",
    "\n",
    "# Load data\n",
    "### remove windows with less than five counts and then merge adjacent windows\n",
    "print(f\" - Loading Genomic library\")\n",
    "if samples[\"modality\"] == \"CITE\":\n",
    "    adata = sc.read(os.path.join(genomic_sample, \"CITE_rna.h5ad\"))\n",
    "else:\n",
    "    adata = load_cellranger(genomic_sample, feature_type=feature_type, \n",
    "                            dtype=float)"
   ]
  },
  {
   "cell_type": "code",
   "execution_count": 76,
   "id": "a975f6e6",
   "metadata": {},
   "outputs": [],
   "source": [
    "min_counts = 300"
   ]
  },
  {
   "cell_type": "code",
   "execution_count": 81,
   "id": "29484065",
   "metadata": {},
   "outputs": [
    {
     "data": {
      "text/plain": [
       "6134"
      ]
     },
     "execution_count": 81,
     "metadata": {},
     "output_type": "execute_result"
    }
   ],
   "source": [
    "adata.n_obs"
   ]
  },
  {
   "cell_type": "code",
   "execution_count": 78,
   "id": "6f3d352e",
   "metadata": {},
   "outputs": [],
   "source": [
    "log = f\"Total cells: {adata.n_obs:,}\\n\"\n",
    "log += f\"Cells with less than {min_counts} counts: {sum(sc.pp.filter_cells(adata, min_counts=min_counts, inplace=False)[0]):,}\\n\"\n",
    "log += f\"Cells with more than {max_counts} counts: {sum(sc.pp.filter_cells(adata, max_counts=max_counts, inplace=False)[0]):,}\\n\"\n",
    "log += f\"Cells with less than {min_genes} features: {sum(sc.pp.filter_cells(adata, min_genes=min_genes, inplace=False)[0]):,}\\n\"\n",
    "log += f\"Cells with more than {max_genes} features: {sum(sc.pp.filter_cells(adata, max_genes=max_genes, inplace=False)[0]):,}\\n\"\n",
    "log += f\"Total features: {adata.n_vars:,}\\n\"\n",
    "log += f\"Features in less than {min_cells} cells: {sum(sc.pp.filter_genes(adata, min_cells=min_cells, inplace=False)[0]):,}\\n\"\n"
   ]
  },
  {
   "cell_type": "code",
   "execution_count": 79,
   "id": "3f14ce43",
   "metadata": {},
   "outputs": [
    {
     "name": "stdout",
     "output_type": "stream",
     "text": [
      "Total cells: 6,134\n",
      "Cells with less than 300 counts: 2,308\n",
      "Cells with more than 0 counts: 0\n",
      "Cells with less than 200 features: 2,231\n",
      "Cells with more than 0 features: 0\n",
      "Total features: 17,283\n",
      "Features in less than 20 cells: 15,530\n",
      "\n"
     ]
    }
   ],
   "source": [
    "print(log)"
   ]
  },
  {
   "cell_type": "code",
   "execution_count": 15,
   "id": "46d2e2b7",
   "metadata": {},
   "outputs": [
    {
     "name": "stdout",
     "output_type": "stream",
     "text": [
      " - Filter genomic features in few cells\n"
     ]
    }
   ],
   "source": [
    "# Filter bins in few cells\n",
    "print(f\" - Filter genomic features in few cells\")\n",
    "###########################################################################\n",
    "# Filter Genomic library\n",
    "\n",
    "# Cell barcodes with <1000 or >60000 UMIs\n",
    "if min_counts:\n",
    "    sc.pp.filter_cells(adata, min_counts=min_counts)\n",
    "if max_counts:\n",
    "    sc.pp.filter_cells(adata, max_counts=max_counts)\n",
    "\n",
    "# # <50 or >700 genes detected\n",
    "if min_genes:\n",
    "    sc.pp.filter_cells(adata, min_genes=min_genes)\n",
    "if max_genes:\n",
    "    sc.pp.filter_cells(adata, max_genes=max_genes)\n",
    "# removing genes expressed in fewer than 3 cells\n",
    "if min_cells:\n",
    "    sc.pp.filter_genes(adata, min_cells=min_cells)\n",
    "\n",
    "# RNA specific filters\n",
    "if samples[\"modality\"] == \"CITE\":\n",
    "    adata.var['mt'] = adata.var_names.str.startswith('MT-')  # annotate the group of mitochondrial genes as 'mt'\n",
    "    sc.pp.calculate_qc_metrics(adata, qc_vars=['mt'], percent_top=None, log1p=False, inplace=True)\n",
    "    adata = adata[adata.obs.pct_counts_mt < max_mito, :]\n",
    "    adata = adata[adata.obs.n_genes_by_counts > min_n_genes, :]\n",
    "    adata = adata[adata.obs.n_genes_by_counts < max_n_genes, :]"
   ]
  },
  {
   "cell_type": "code",
   "execution_count": 16,
   "id": "46ab4041",
   "metadata": {},
   "outputs": [
    {
     "data": {
      "text/plain": [
       "AnnData object with n_obs × n_vars = 2212 × 14081\n",
       "    obs: 'n_counts', 'n_genes'\n",
       "    var: 'n_cells'"
      ]
     },
     "execution_count": 16,
     "metadata": {},
     "output_type": "execute_result"
    }
   ],
   "source": [
    "adata"
   ]
  },
  {
   "cell_type": "code",
   "execution_count": 7,
   "id": "d9edc9a2",
   "metadata": {},
   "outputs": [
    {
     "name": "stdout",
     "output_type": "stream",
     "text": [
      " - TF-IDF normalization on genomic library\n"
     ]
    }
   ],
   "source": [
    "###########################################################################\n",
    "## BOOTSTRAPPING over Genomic features\n",
    "#if seed:\n",
    "#    mat = ad_hist.X.toarray()\n",
    "\n",
    "#    np.random.seed(seed)\n",
    "\n",
    "#    # Generate a list of 10 random numbers in the range [0, 250]\n",
    "#    substitutes = np.random.choice(range(len(ad_hist)), int(len(ad_hist)), replace=True)\n",
    "\n",
    "#    for i in range(len(substitutes)):\n",
    "#        mat[:,i] = mat[:,substitutes[i]]\n",
    "\n",
    "#    ad_hist.X = sparse.csr_matrix(mat)\n",
    "\n",
    "###########################################################################\n",
    "## GENOMIC PROCESSING\n",
    "if samples[\"modality\"] == \"CITE\":\n",
    "    # Create a Scrublet object, fit the data to it and filter out predicted doublets\n",
    "    print(f\" - log(ygc /sc + 1) normalization on genomic library\")\n",
    "    scrub = scr.Scrublet(adata.X)\n",
    "    doublet_scores, predicted_doublets = scrub.scrub_doublets()\n",
    "    adata = adata[~predicted_doublets]\n",
    "    L = adata.obs[\"total_counts\"].sum()/len(adata)\n",
    "    adata.obs[\"s\"] = adata.obs[\"total_counts\"]/L\n",
    "    mat = adata.X.toarray()\n",
    "    mat_div = mat/adata.obs[\"s\"][:, np.newaxis]\n",
    "    adata.X = mat_div # do not sum 1 because log1p already sums it\n",
    "    sc.pp.log1p(adata)\n",
    "else:\n",
    "    # Normalize by TF-IDF\n",
    "    print(f\" - TF-IDF normalization on genomic library\")\n",
    "    normalize_TFIDF(adata, os.path.join(genomic_sample, \"outs\", \n",
    "                                        \"mapped_read_per_barcode.txt\"))"
   ]
  },
  {
   "cell_type": "code",
   "execution_count": 8,
   "id": "b9976303",
   "metadata": {},
   "outputs": [
    {
     "name": "stdout",
     "output_type": "stream",
     "text": [
      " - Loading ADTs\n",
      "/scratch2/shared/CUTAG/data/scCUTnTAG-PRO/622/ADTs/ADT_matrix.tsv\n"
     ]
    }
   ],
   "source": [
    "###########################################################################\n",
    "# Merge ADTS\n",
    "print(f\" - Loading ADTs\")\n",
    "print(os.path.join(adt_sample, \"ADTs\", \"ADT_matrix.tsv\"))\n",
    "adts_file = os.path.join(adt_sample, \"ADTs\", \"ADT_matrix.tsv\")\n",
    "# TODO: what is this?\n",
    "if sampleID.startswith(\"GSM\"):\n",
    "    ad_adts = load_ADTs(adts_file, adata, modality= samples[\"modality\"], transpose=True)\n",
    "else:\n",
    "    ad_adts = load_ADTs(adts_file, adata, modality= samples[\"modality\"])"
   ]
  },
  {
   "cell_type": "code",
   "execution_count": 9,
   "id": "2547f256",
   "metadata": {},
   "outputs": [
    {
     "name": "stdout",
     "output_type": "stream",
     "text": [
      " - Filter ADTs with few counts\n"
     ]
    }
   ],
   "source": [
    "###########################################################################\n",
    "# Filter ADTs\n",
    "print(f\" - Filter ADTs with few counts\")\n",
    "\n",
    "if min_genes_adt:\n",
    "    sc.pp.filter_cells(ad_adts, min_genes=min_genes_adt)\n",
    "\n",
    "if min_counts_adt:\n",
    "    sc.pp.filter_cells(ad_adts, min_counts=min_counts_adt)\n",
    "\n",
    "if max_counts_adt:\n",
    "    sc.pp.filter_cells(ad_adts, max_counts=max_counts_adt)\n",
    "\n",
    "# WARNING: highly specific to Satija dataset:\n",
    "if samples[\"lab\"]==\"Satija\":\n",
    "    ad_adts.obs.index = [f\"{v[:-2]}-1\" for v in ad_adts.obs.index]"
   ]
  },
  {
   "cell_type": "code",
   "execution_count": 10,
   "id": "539a1095",
   "metadata": {},
   "outputs": [],
   "source": [
    "###########################################################################\n",
    "## BOOTSTRAPPING\n",
    "if seed:\n",
    "    mat = ad_adts.X\n",
    "\n",
    "    np.random.seed(seed)\n",
    "\n",
    "    # Generate a list of 10 random numbers in the range [0, 250]\n",
    "    substitutes = np.random.choice(range(ad_adts.X.shape[1]), int(ad_adts.X.shape[1]), replace=True)\n",
    "    mat2 = np.zeros(ad_adts.X.shape)\n",
    "\n",
    "    for i in range(len(substitutes)):\n",
    "        mat2[:,i] = mat[:,substitutes[i]]\n",
    "\n",
    "    ad_adts.X = mat2"
   ]
  },
  {
   "cell_type": "code",
   "execution_count": 11,
   "id": "226c5c12",
   "metadata": {},
   "outputs": [],
   "source": [
    "###########################################################################\n",
    "# Merge ADT with genomic library\n",
    "ad_adts.obs = pd.merge(ad_adts.obs, adata.obs, how=\"inner\",\n",
    "                       left_index=True, right_index=True)"
   ]
  },
  {
   "cell_type": "code",
   "execution_count": 12,
   "id": "706b58c4",
   "metadata": {},
   "outputs": [
    {
     "name": "stdout",
     "output_type": "stream",
     "text": [
      " - Normalize ADTs by genomic background\n"
     ]
    }
   ],
   "source": [
    "###########################################################################\n",
    "# Normalize each cell ADT count by the genomic-library background\n",
    "if regress_count == \"bg\":\n",
    "    if samples[\"modality\"] == \"CITE\":\n",
    "        ad_adts.obs[\"bg_counts\"] = ad_adts.obs[\"total_counts\"]\n",
    "    else:\n",
    "        if bg == \"bg\":\n",
    "            process_line = lambda barcode, bg_count: (barcode, int(bg_count)) \n",
    "            bgpath = os.path.join(genomic_sample, \"outs\", \"mapped_read_per_barcode.txt\")\n",
    "            bg_dict = dict(process_line(*l.split()) for l in open(bgpath, \"r\"))\n",
    "            ad_adts.obs[\"bg_counts\"] = ad_adts.obs.index.map(bg_dict)\n",
    "        elif bg == \"total_genomic\":\n",
    "            ad_adts.obs[\"bg_counts\"] = adata.obs[\"n_counts\"]\n",
    "    print(f\" - Normalize ADTs by genomic background\")\n",
    "    # Load the data\n",
    "    x = np.log1p(np.sum(ad_adts.X, axis=1))\n",
    "    y = np.log1p(ad_adts.obs[\"bg_counts\"])\n",
    "    # Create a model for fitting.\n",
    "    linear_model = odr.Model(linear_func)\n",
    "    # Create a RealData object using our initiated data from above.\n",
    "    data = odr.RealData(x, y)\n",
    "    # Set up ODR with the model and data.\n",
    "    interp = odr.ODR(data, linear_model, beta0=[1., 1.])\n",
    "    # Run the regression.\n",
    "    out = interp.run()\n",
    "    slope, intercept = out.beta\n",
    "    ad_adts.obs[\"adt_count\"] = np.sum(ad_adts.X, axis=1)\n",
    "    ad_adts.obs[\"correction\"] = intercept + slope * np.log1p(ad_adts.obs[\"adt_count\"])\n",
    "    # we apply correction on the log +1 of the X matrix, then come back to original values (with exp)\n",
    "    ad_adts.X = np.exp(np.log1p(ad_adts.X) / ad_adts.obs[\"correction\"].to_numpy()[:,None]) - 1\n",
    "\n",
    "    # old shit\n",
    "    # sc.pp.log1p(ad_adts)                                              # Eixo u a fet el Xavi\n",
    "    # ad_adts.X /= np.log(ad_adts.obs[\"bg_counts\"]).to_numpy()[:,None]  # Eixo u a fet el Xavi\n",
    "    # ad_adts.X *= np.nanmedian(np.log(ad_adts.obs[\"bg_counts\"]))       # Eixo u a fet el Xavi\n",
    "    # ad_adts.X = np.exp(ad_adts.X)                                     # Eixo u a fet el Xavi\n",
    "    # ad_adts.X = ad_adts.X - 1                                         # Eixo u a fet el Xavi\n",
    "elif regress_count == \"no\":\n",
    "    print(f\" - no ADTs normalization by droplet\")\n",
    "else:\n",
    "    raise NotImplementedError(\n",
    "        f\"ERROR: regression {regress_count} not implemented\")"
   ]
  },
  {
   "cell_type": "code",
   "execution_count": 13,
   "id": "3337f73f",
   "metadata": {},
   "outputs": [
    {
     "name": "stdout",
     "output_type": "stream",
     "text": [
      " - Normalize ADTs by CLR\n"
     ]
    }
   ],
   "source": [
    "print(f\" - Normalize ADTs by CLR\")\n",
    "normalize_CLR(ad_adts)\n",
    "\n",
    "# scale data\n",
    "if normalize_total == 1:\n",
    "    sc.pp.normalize_total(ad_adts, target_sum=1_000_000)\n",
    "    sc.pp.normalize_total(adata  , target_sum=1_000_000)"
   ]
  },
  {
   "cell_type": "code",
   "execution_count": 14,
   "id": "ceedad88",
   "metadata": {},
   "outputs": [
    {
     "name": "stdout",
     "output_type": "stream",
     "text": [
      " - Merge Genomic and ADT data into Muon object\n"
     ]
    }
   ],
   "source": [
    "###########################################################################\n",
    "# ANALYSIS\n",
    "###########################################################################\n",
    "os.system(f\"mkdir -p {outdir}\")\n",
    "\n",
    "# Merge with MUON\n",
    "print(f\" - Merge Genomic and ADT data into Muon object\")\n",
    "mdata = mu.MuData({\"histone\": adata, \"ADT\": ad_adts})\n",
    "\n",
    "mdata.var_names_make_unique()\n",
    "mu.pp.intersect_obs(mdata)"
   ]
  },
  {
   "cell_type": "code",
   "execution_count": 15,
   "id": "dc46e9e2",
   "metadata": {},
   "outputs": [
    {
     "name": "stdout",
     "output_type": "stream",
     "text": [
      " - Computing PCAs\n"
     ]
    }
   ],
   "source": [
    "###########################################################################\n",
    "# PCA\n",
    "print(f\" - Computing PCAs\")\n",
    "md_histones = mdata.mod[\"histone\"]\n",
    "md_membrane = mdata.mod[\"ADT\"]"
   ]
  },
  {
   "cell_type": "code",
   "execution_count": 16,
   "id": "a0e3e0c0",
   "metadata": {},
   "outputs": [],
   "source": [
    "with threadpool_limits(limits=1, user_api='blas'):\n",
    "    sc.tl.pca(md_membrane, svd_solver='arpack')\n",
    "    sc.tl.pca(md_histones, svd_solver='arpack')"
   ]
  },
  {
   "cell_type": "code",
   "execution_count": 17,
   "id": "5cb2114c",
   "metadata": {},
   "outputs": [],
   "source": [
    "if rm_pca:\n",
    "    md_histones.obsm['X_pca'] = md_histones.obsm['X_pca'][:,1:]\n",
    "\n",
    "num_cells = len(md_histones.obs_names)\n",
    "n_neighbors = int(np.sqrt(num_cells) * n_neighbors)"
   ]
  },
  {
   "cell_type": "code",
   "execution_count": 18,
   "id": "5fe852ba",
   "metadata": {},
   "outputs": [
    {
     "data": {
      "text/plain": [
       "56"
      ]
     },
     "execution_count": 18,
     "metadata": {},
     "output_type": "execute_result"
    }
   ],
   "source": [
    "n_pcs = 50\n",
    "n_neighbors"
   ]
  },
  {
   "cell_type": "code",
   "execution_count": 19,
   "id": "0fb67d41",
   "metadata": {},
   "outputs": [
    {
     "name": "stdout",
     "output_type": "stream",
     "text": [
      " - Computing neighbors\n"
     ]
    }
   ],
   "source": [
    "with threadpool_limits(limits=1, user_api='blas'):\n",
    "    print(f\" - Computing neighbors\")\n",
    "    sc.pp.neighbors(md_histones, n_pcs=n_pcs, n_neighbors=n_neighbors)\n",
    "    sc.pp.neighbors(md_membrane, n_pcs=n_pcs, n_neighbors=n_neighbors)"
   ]
  },
  {
   "cell_type": "code",
   "execution_count": null,
   "id": "89a8bca1",
   "metadata": {},
   "outputs": [],
   "source": []
  },
  {
   "cell_type": "code",
   "execution_count": 20,
   "id": "4bd083fe",
   "metadata": {},
   "outputs": [
    {
     "name": "stdout",
     "output_type": "stream",
     "text": [
      " - Leiden clustering histones (5 wanted)\n",
      " - Leiden clustering ADTs (5 wanted)\n"
     ]
    }
   ],
   "source": [
    "print(f\" - Leiden clustering histones ({n_leiden} wanted)\")\n",
    "md_histones = wanted_leiden(md_histones, n_leiden)\n",
    "print(f\" - Leiden clustering ADTs ({n_leiden} wanted)\")\n",
    "md_membrane = wanted_leiden(md_membrane, n_leiden)"
   ]
  },
  {
   "cell_type": "code",
   "execution_count": 21,
   "id": "37b08c38",
   "metadata": {},
   "outputs": [],
   "source": [
    "vms = v_measure_score(md_membrane.obs['leiden'], md_histones.obs['leiden'])"
   ]
  },
  {
   "cell_type": "code",
   "execution_count": 22,
   "id": "c0a396be",
   "metadata": {},
   "outputs": [],
   "source": [
    "ari = adjusted_rand_score(md_membrane.obs['leiden'], md_histones.obs['leiden'])"
   ]
  },
  {
   "cell_type": "code",
   "execution_count": 23,
   "id": "2ec98f6a",
   "metadata": {},
   "outputs": [
    {
     "name": "stdout",
     "output_type": "stream",
     "text": [
      " - V-meassure score: 0.002824805123539517\n",
      " - Adjusted Randome score: 0.002441361260863591\n",
      " - Plotting\n"
     ]
    }
   ],
   "source": [
    "print(f\" - V-meassure score: {vms}\")\n",
    "print(f\" - Adjusted Randome score: {ari}\")\n",
    "v_measures = {}\n",
    "v_measures['leiden'] = vms\n",
    "\n",
    "print(f\" - Plotting\")\n",
    "with threadpool_limits(limits=1, user_api='blas'):\n",
    "    sc.tl.umap(md_histones)"
   ]
  },
  {
   "cell_type": "code",
   "execution_count": 24,
   "id": "69fff1fd",
   "metadata": {
    "scrolled": true
   },
   "outputs": [
    {
     "data": {
      "image/png": "[encoded data removed]",
      "text/plain": [
       "<Figure size 640x480 with 1 Axes>"
      ]
     },
     "metadata": {},
     "output_type": "display_data"
    }
   ],
   "source": [
    "# plot PCA\n",
    "sc.pl.pca_variance_ratio(md_histones, log=True, show=False)\n",
    "plt.savefig(os.path.join(outdir, \"genomic_pca-weights_plot.png\"))"
   ]
  },
  {
   "cell_type": "code",
   "execution_count": 25,
   "id": "9fdcee88",
   "metadata": {},
   "outputs": [],
   "source": [
    "###########################################################################\n",
    "# compute V-measure Score\n",
    "adt_names = md_membrane.var_names\n",
    "\n",
    "out = open(os.path.join(outdir, \"V-measures.tsv\"), \"w\")\n",
    "out.write(f\"leiden\\t{v_measures['leiden']}\\n\")\n",
    "# We classify cells according to their abundance for each of its ADTs\n",
    "for col, adt in  enumerate(adt_names):\n",
    "    # cells with a total number of ADT in the top  2% will be in cluster 7\n",
    "    true_cluster  = (md_membrane.X[:,col] <= np.percentile(md_membrane.X[:,col],  2)).astype(int)\n",
    "    # cells with a total number of ADT in the top 25% will be in cluster 6\n",
    "    true_cluster += (md_membrane.X[:,col] <= np.percentile(md_membrane.X[:,col], 25)).astype(int)\n",
    "    # cells with a total number of ADT in the top 50% will be in cluster 5\n",
    "    true_cluster += (md_membrane.X[:,col] <= np.percentile(md_membrane.X[:,col], 50)).astype(int)\n",
    "    # cells with a total number of ADT in the top 70% will be in cluster 4\n",
    "    true_cluster += (md_membrane.X[:,col] <= np.percentile(md_membrane.X[:,col], 70)).astype(int)\n",
    "    # cells with a total number of ADT in the top 85% will be in cluster 3\n",
    "    true_cluster += (md_membrane.X[:,col] <= np.percentile(md_membrane.X[:,col], 85)).astype(int)\n",
    "    # cells with a total number of ADT in the top 95% will be in cluster 2\n",
    "    true_cluster += (md_membrane.X[:,col] <= np.percentile(md_membrane.X[:,col], 95)).astype(int)\n",
    "    # cells with a total number of ADT in the top 98% will be in cluster 1\n",
    "    true_cluster += (md_membrane.X[:,col] <= np.percentile(md_membrane.X[:,col], 98)).astype(int)\n",
    "    # cells with a total number of ADT in the bottom 2% will be in cluster 0\n",
    "\n",
    "    obs_cluster = md_histones.obs[\"leiden\"]\n",
    "    # This classification is compared to the leiden \n",
    "    vms = v_measure_score(true_cluster, obs_cluster)\n",
    "    v_measures[adt] = vms\n",
    "    out.write(f\"{col}\\t{vms}\\n\")\n",
    "out.close()"
   ]
  },
  {
   "cell_type": "code",
   "execution_count": 26,
   "id": "ecbf2ce0",
   "metadata": {},
   "outputs": [
    {
     "name": "stdout",
     "output_type": "stream",
     "text": [
      " - Computing RAGI\n",
      "    => 57 marker genes in Tonsil, \n",
      "    => 2130 housekeeping genes in Tonsil, \n",
      "    - loading fragments\n",
      "    - preprocessing -> gene score\n",
      "    - Getting GINI of Gene scores -> RAGI\n"
     ]
    },
    {
     "name": "stderr",
     "output_type": "stream",
     "text": [
      "/scratch2/shared/software/cutag/cutag/stats/metrics.py:124: RuntimeWarning: invalid value encountered in double_scalars\n",
      "  return sum(abs(xi - xj) for xi, xj in permutations(tmp, 2)) / (2 * n**2 * av)\n"
     ]
    }
   ],
   "source": [
    "###########################################################################\n",
    "# RAGIS\n",
    "if samples[\"modality\"] == \"CITE\":\n",
    "    # Computing RAGI for CITE\n",
    "    adata = mdata.mod[\"histone\"]\n",
    "\n",
    "    df = pd.DataFrame(adata.X, columns = [\"\".join(gene.split(\":\")[1:]) for gene in adata.var_names])\n",
    "\n",
    "    df[\"leiden\"] =  mdata.mod[\"ADT\"].obs[\"leiden\"].tolist()\n",
    "\n",
    "    num_cells_cluster = mdata.mod[\"ADT\"].obs[\"leiden\"].value_counts().to_dict()\n",
    "\n",
    "    bf_genes = bf.from_any(pd.read_csv(\n",
    "        os.path.join(data_dir,'complementary_data/hg38_genes.tsv'), sep='\\t'))\n",
    "\n",
    "    # add info about housekeeping genes\n",
    "    fh = open(os.path.join(data_dir,'complementary_data/Housekeeping_GenesHuman.csv'))\n",
    "    next(fh)\n",
    "    bf_genes['housekeeping'] = bf_genes['name'].isin(\n",
    "        set([l.split(';')[1].strip() for l in fh]))\n",
    "\n",
    "    marker_genes = pd.read_csv(os.path.join(data_dir,'complementary_data/Cell_marker_Human.txt'), sep='\\t')\n",
    "\n",
    "    tissue = samples['tissue_type']\n",
    "    tmp = set(marker_genes[(marker_genes['cell_type'   ] == 'Normal cell') & \n",
    "                            (marker_genes['tissue_type'] == tissue) & \n",
    "                            (marker_genes['Symbol'] > '')]['Symbol'])\n",
    "    bf_genes[f'marker {tissue}'] = bf_genes['name'].isin(tmp)\n",
    "\n",
    "    # Remove from HK and from markers genes that are in both categories\n",
    "    tmp = [False] * len(bf_genes)\n",
    "    tmp |= (bf_genes['housekeeping']) & (bf_genes[f'marker {tissue}'])\n",
    "    bf_genes.loc[tmp, f'marker {tissue}'] = False\n",
    "    bf_genes.loc[tmp, 'housekeeping'] = False\n",
    "\n",
    "    print(f\"    => {sum(bf_genes[f'marker {tissue}'])} marker genes in {tissue}, \")\n",
    "    print(f\"    => {sum(bf_genes['housekeeping'])} housekeeping genes in {tissue}, \")\n",
    "\n",
    "    df = df.groupby(\"leiden\").sum()\n",
    "\n",
    "    # iterate over rows and divide \"MAFIP\" by dictionary value\n",
    "    for index, row in df.iterrows():\n",
    "        df.loc[index] = row / num_cells_cluster[index]\n",
    "\n",
    "    fun_genes = bf_genes['housekeeping'].copy()\n",
    "    fun_genes |= bf_genes[f'marker {tissue}']\n",
    "\n",
    "    ragis=dict()\n",
    "\n",
    "    for gene in bf_genes[(bf_genes[\"marker Peripheral blood\"] == True) | (bf_genes[\"housekeeping\"] == True)][\"name\"]:\n",
    "        try:\n",
    "            ragis[gene] = gini(df[gene].to_numpy())\n",
    "        except:\n",
    "            print(\"\")\n",
    "\n",
    "    bf_genes['ragi'] = bf_genes['name'].map(ragis)\n",
    "    bf_genes[fun_genes].to_csv(os.path.join(outdir, \"RAGI_scores.tsv\"), sep='\\t')\n",
    "else:\n",
    "    # Computing RAGI for ASAP or CUTandTAG-PRO\n",
    "    print(\" - Computing RAGI\")\n",
    "    bf_genes = bf.from_any(pd.read_csv(\n",
    "        os.path.join(data_dir,'complementary_data/hg38_genes.tsv'), sep='\\t'))\n",
    "\n",
    "    # add info about housekeeping genes\n",
    "    fh = open(os.path.join(data_dir,'complementary_data/Housekeeping_GenesHuman.csv'))\n",
    "    next(fh)\n",
    "    bf_genes['housekeeping'] = bf_genes['name'].isin(\n",
    "        set([l.split(';')[1].strip() for l in fh]))\n",
    "\n",
    "    marker_genes = pd.read_csv(os.path.join(data_dir,'complementary_data/Cell_marker_Human.txt'), sep='\\t')\n",
    "\n",
    "    tissue = samples['tissue_type']\n",
    "    tmp = set(marker_genes[(marker_genes['cell_type'   ] == 'Normal cell') & \n",
    "                            (marker_genes['tissue_type'] == tissue) & \n",
    "                            (marker_genes['Symbol'] > '')]['Symbol'])\n",
    "    bf_genes[f'marker {tissue}'] = bf_genes['name'].isin(tmp)\n",
    "\n",
    "    # Remove from HK and from markers genes that are in both categories\n",
    "    tmp = [False] * len(bf_genes)\n",
    "    tmp |= (bf_genes['housekeeping']) & (bf_genes[f'marker {tissue}'])\n",
    "    bf_genes.loc[tmp, f'marker {tissue}'] = False\n",
    "    bf_genes.loc[tmp, 'housekeeping'] = False\n",
    "\n",
    "    print(f\"    => {sum(bf_genes[f'marker {tissue}'])} marker genes in {tissue}, \")\n",
    "    print(f\"    => {sum(bf_genes['housekeeping'])} housekeeping genes in {tissue}, \")\n",
    "\n",
    "    ###########################################################################\n",
    "    # RAGI on ADTs\n",
    "    fragments_path = os.path.join(genomic_sample, 'outs', 'fragments.tsv')\n",
    "\n",
    "    fun_genes = bf_genes['housekeeping'].copy()\n",
    "    fun_genes |= bf_genes[f'marker {tissue}']\n",
    "    ragis = ragi_score(fragments_path, md_membrane, bf_genes[fun_genes], offset=10_000, clustering=\"leiden\")\n",
    "    bf_genes['ragi'] = bf_genes['name'].map(ragis)\n",
    "    bf_genes[fun_genes].to_csv(os.path.join(outdir, \"RAGI_scores.tsv\"), sep='\\t')"
   ]
  },
  {
   "cell_type": "code",
   "execution_count": 44,
   "id": "3b1273d0",
   "metadata": {},
   "outputs": [
    {
     "data": {
      "text/html": [
       "<div>\n",
       "<style scoped>\n",
       "    .dataframe tbody tr th:only-of-type {\n",
       "        vertical-align: middle;\n",
       "    }\n",
       "\n",
       "    .dataframe tbody tr th {\n",
       "        vertical-align: top;\n",
       "    }\n",
       "\n",
       "    .dataframe thead th {\n",
       "        text-align: right;\n",
       "    }\n",
       "</style>\n",
       "<table border=\"1\" class=\"dataframe\">\n",
       "  <thead>\n",
       "    <tr style=\"text-align: right;\">\n",
       "      <th></th>\n",
       "      <th>Unnamed: 0</th>\n",
       "      <th>chrom</th>\n",
       "      <th>start</th>\n",
       "      <th>end</th>\n",
       "      <th>name</th>\n",
       "      <th>housekeeping</th>\n",
       "      <th>marker Tonsil</th>\n",
       "      <th>ragi</th>\n",
       "    </tr>\n",
       "  </thead>\n",
       "  <tbody>\n",
       "    <tr>\n",
       "      <th>0</th>\n",
       "      <td>0</td>\n",
       "      <td>chrY</td>\n",
       "      <td>8280198</td>\n",
       "      <td>8280198</td>\n",
       "      <td>TSPY24P</td>\n",
       "      <td>False</td>\n",
       "      <td>False</td>\n",
       "      <td>NaN</td>\n",
       "    </tr>\n",
       "    <tr>\n",
       "      <th>1</th>\n",
       "      <td>1</td>\n",
       "      <td>chrY</td>\n",
       "      <td>7854876</td>\n",
       "      <td>7854876</td>\n",
       "      <td>ZNF92P1Y</td>\n",
       "      <td>False</td>\n",
       "      <td>False</td>\n",
       "      <td>NaN</td>\n",
       "    </tr>\n",
       "    <tr>\n",
       "      <th>2</th>\n",
       "      <td>2</td>\n",
       "      <td>chrY</td>\n",
       "      <td>9621276</td>\n",
       "      <td>9621276</td>\n",
       "      <td>RBMY3AP</td>\n",
       "      <td>False</td>\n",
       "      <td>False</td>\n",
       "      <td>NaN</td>\n",
       "    </tr>\n",
       "    <tr>\n",
       "      <th>3</th>\n",
       "      <td>3</td>\n",
       "      <td>chrY</td>\n",
       "      <td>7809267</td>\n",
       "      <td>7809267</td>\n",
       "      <td>RFTN1P1</td>\n",
       "      <td>False</td>\n",
       "      <td>False</td>\n",
       "      <td>NaN</td>\n",
       "    </tr>\n",
       "    <tr>\n",
       "      <th>4</th>\n",
       "      <td>4</td>\n",
       "      <td>chrY</td>\n",
       "      <td>4802848</td>\n",
       "      <td>4802848</td>\n",
       "      <td>SERBP1P2</td>\n",
       "      <td>False</td>\n",
       "      <td>False</td>\n",
       "      <td>NaN</td>\n",
       "    </tr>\n",
       "    <tr>\n",
       "      <th>...</th>\n",
       "      <td>...</td>\n",
       "      <td>...</td>\n",
       "      <td>...</td>\n",
       "      <td>...</td>\n",
       "      <td>...</td>\n",
       "      <td>...</td>\n",
       "      <td>...</td>\n",
       "      <td>...</td>\n",
       "    </tr>\n",
       "    <tr>\n",
       "      <th>41347</th>\n",
       "      <td>61762</td>\n",
       "      <td>chr1</td>\n",
       "      <td>348366</td>\n",
       "      <td>348366</td>\n",
       "      <td>RPL23AP24</td>\n",
       "      <td>False</td>\n",
       "      <td>False</td>\n",
       "      <td>NaN</td>\n",
       "    </tr>\n",
       "    <tr>\n",
       "      <th>41348</th>\n",
       "      <td>61764</td>\n",
       "      <td>chr1</td>\n",
       "      <td>439870</td>\n",
       "      <td>439870</td>\n",
       "      <td>WBP1LP7</td>\n",
       "      <td>False</td>\n",
       "      <td>False</td>\n",
       "      <td>NaN</td>\n",
       "    </tr>\n",
       "    <tr>\n",
       "      <th>41349</th>\n",
       "      <td>61765</td>\n",
       "      <td>chr1</td>\n",
       "      <td>451678</td>\n",
       "      <td>451678</td>\n",
       "      <td>OR4F29</td>\n",
       "      <td>False</td>\n",
       "      <td>False</td>\n",
       "      <td>NaN</td>\n",
       "    </tr>\n",
       "    <tr>\n",
       "      <th>41350</th>\n",
       "      <td>61766</td>\n",
       "      <td>chr1</td>\n",
       "      <td>487101</td>\n",
       "      <td>487101</td>\n",
       "      <td>CICP7</td>\n",
       "      <td>False</td>\n",
       "      <td>False</td>\n",
       "      <td>NaN</td>\n",
       "    </tr>\n",
       "    <tr>\n",
       "      <th>41351</th>\n",
       "      <td>61768</td>\n",
       "      <td>chr1</td>\n",
       "      <td>26432375</td>\n",
       "      <td>26432375</td>\n",
       "      <td>DHDDS</td>\n",
       "      <td>False</td>\n",
       "      <td>False</td>\n",
       "      <td>NaN</td>\n",
       "    </tr>\n",
       "  </tbody>\n",
       "</table>\n",
       "<p>41352 rows × 8 columns</p>\n",
       "</div>"
      ],
      "text/plain": [
       "       Unnamed: 0 chrom     start       end       name  housekeeping  \\\n",
       "0               0  chrY   8280198   8280198    TSPY24P         False   \n",
       "1               1  chrY   7854876   7854876   ZNF92P1Y         False   \n",
       "2               2  chrY   9621276   9621276    RBMY3AP         False   \n",
       "3               3  chrY   7809267   7809267    RFTN1P1         False   \n",
       "4               4  chrY   4802848   4802848   SERBP1P2         False   \n",
       "...           ...   ...       ...       ...        ...           ...   \n",
       "41347       61762  chr1    348366    348366  RPL23AP24         False   \n",
       "41348       61764  chr1    439870    439870    WBP1LP7         False   \n",
       "41349       61765  chr1    451678    451678     OR4F29         False   \n",
       "41350       61766  chr1    487101    487101      CICP7         False   \n",
       "41351       61768  chr1  26432375  26432375      DHDDS         False   \n",
       "\n",
       "       marker Tonsil  ragi  \n",
       "0              False   NaN  \n",
       "1              False   NaN  \n",
       "2              False   NaN  \n",
       "3              False   NaN  \n",
       "4              False   NaN  \n",
       "...              ...   ...  \n",
       "41347          False   NaN  \n",
       "41348          False   NaN  \n",
       "41349          False   NaN  \n",
       "41350          False   NaN  \n",
       "41351          False   NaN  \n",
       "\n",
       "[41352 rows x 8 columns]"
      ]
     },
     "execution_count": 44,
     "metadata": {},
     "output_type": "execute_result"
    }
   ],
   "source": [
    "bf_genes"
   ]
  },
  {
   "cell_type": "code",
   "execution_count": 45,
   "id": "a9fe6cb6",
   "metadata": {},
   "outputs": [
    {
     "data": {
      "text/html": [
       "<div>\n",
       "<style scoped>\n",
       "    .dataframe tbody tr th:only-of-type {\n",
       "        vertical-align: middle;\n",
       "    }\n",
       "\n",
       "    .dataframe tbody tr th {\n",
       "        vertical-align: top;\n",
       "    }\n",
       "\n",
       "    .dataframe thead th {\n",
       "        text-align: right;\n",
       "    }\n",
       "</style>\n",
       "<table border=\"1\" class=\"dataframe\">\n",
       "  <thead>\n",
       "    <tr style=\"text-align: right;\">\n",
       "      <th></th>\n",
       "      <th>Unnamed: 0</th>\n",
       "      <th>chrom</th>\n",
       "      <th>start</th>\n",
       "      <th>end</th>\n",
       "      <th>name</th>\n",
       "      <th>housekeeping</th>\n",
       "      <th>marker Tonsil</th>\n",
       "      <th>ragi</th>\n",
       "    </tr>\n",
       "  </thead>\n",
       "  <tbody>\n",
       "    <tr>\n",
       "      <th>463</th>\n",
       "      <td>567</td>\n",
       "      <td>chr13</td>\n",
       "      <td>30617920</td>\n",
       "      <td>30617920</td>\n",
       "      <td>USPL1</td>\n",
       "      <td>True</td>\n",
       "      <td>False</td>\n",
       "      <td>0.151603</td>\n",
       "    </tr>\n",
       "    <tr>\n",
       "      <th>467</th>\n",
       "      <td>571</td>\n",
       "      <td>chr13</td>\n",
       "      <td>30465936</td>\n",
       "      <td>30465936</td>\n",
       "      <td>HMGB1</td>\n",
       "      <td>True</td>\n",
       "      <td>False</td>\n",
       "      <td>0.147641</td>\n",
       "    </tr>\n",
       "    <tr>\n",
       "      <th>481</th>\n",
       "      <td>589</td>\n",
       "      <td>chr13</td>\n",
       "      <td>49792682</td>\n",
       "      <td>49792682</td>\n",
       "      <td>KPNA3</td>\n",
       "      <td>True</td>\n",
       "      <td>False</td>\n",
       "      <td>0.125370</td>\n",
       "    </tr>\n",
       "    <tr>\n",
       "      <th>514</th>\n",
       "      <td>630</td>\n",
       "      <td>chr13</td>\n",
       "      <td>45120510</td>\n",
       "      <td>45120510</td>\n",
       "      <td>GTF2F2</td>\n",
       "      <td>True</td>\n",
       "      <td>False</td>\n",
       "      <td>0.200800</td>\n",
       "    </tr>\n",
       "    <tr>\n",
       "      <th>575</th>\n",
       "      <td>718</td>\n",
       "      <td>chr20</td>\n",
       "      <td>8019761</td>\n",
       "      <td>8019761</td>\n",
       "      <td>TMX4</td>\n",
       "      <td>True</td>\n",
       "      <td>False</td>\n",
       "      <td>0.105316</td>\n",
       "    </tr>\n",
       "    <tr>\n",
       "      <th>...</th>\n",
       "      <td>...</td>\n",
       "      <td>...</td>\n",
       "      <td>...</td>\n",
       "      <td>...</td>\n",
       "      <td>...</td>\n",
       "      <td>...</td>\n",
       "      <td>...</td>\n",
       "      <td>...</td>\n",
       "    </tr>\n",
       "    <tr>\n",
       "      <th>41155</th>\n",
       "      <td>61439</td>\n",
       "      <td>chr1</td>\n",
       "      <td>228082708</td>\n",
       "      <td>228082708</td>\n",
       "      <td>ARF1</td>\n",
       "      <td>True</td>\n",
       "      <td>False</td>\n",
       "      <td>0.132179</td>\n",
       "    </tr>\n",
       "    <tr>\n",
       "      <th>41194</th>\n",
       "      <td>61485</td>\n",
       "      <td>chr1</td>\n",
       "      <td>167553805</td>\n",
       "      <td>167553805</td>\n",
       "      <td>CREG1</td>\n",
       "      <td>True</td>\n",
       "      <td>False</td>\n",
       "      <td>0.064979</td>\n",
       "    </tr>\n",
       "    <tr>\n",
       "      <th>41209</th>\n",
       "      <td>61511</td>\n",
       "      <td>chr1</td>\n",
       "      <td>6785454</td>\n",
       "      <td>6785454</td>\n",
       "      <td>CAMTA1</td>\n",
       "      <td>True</td>\n",
       "      <td>False</td>\n",
       "      <td>0.180674</td>\n",
       "    </tr>\n",
       "    <tr>\n",
       "      <th>41327</th>\n",
       "      <td>61735</td>\n",
       "      <td>chr1</td>\n",
       "      <td>11262528</td>\n",
       "      <td>11262528</td>\n",
       "      <td>MTOR</td>\n",
       "      <td>True</td>\n",
       "      <td>False</td>\n",
       "      <td>0.371236</td>\n",
       "    </tr>\n",
       "    <tr>\n",
       "      <th>41335</th>\n",
       "      <td>61745</td>\n",
       "      <td>chr1</td>\n",
       "      <td>151399587</td>\n",
       "      <td>151399587</td>\n",
       "      <td>PSMB4</td>\n",
       "      <td>True</td>\n",
       "      <td>False</td>\n",
       "      <td>0.112182</td>\n",
       "    </tr>\n",
       "  </tbody>\n",
       "</table>\n",
       "<p>2187 rows × 8 columns</p>\n",
       "</div>"
      ],
      "text/plain": [
       "       Unnamed: 0  chrom      start        end    name  housekeeping  \\\n",
       "463           567  chr13   30617920   30617920   USPL1          True   \n",
       "467           571  chr13   30465936   30465936   HMGB1          True   \n",
       "481           589  chr13   49792682   49792682   KPNA3          True   \n",
       "514           630  chr13   45120510   45120510  GTF2F2          True   \n",
       "575           718  chr20    8019761    8019761    TMX4          True   \n",
       "...           ...    ...        ...        ...     ...           ...   \n",
       "41155       61439   chr1  228082708  228082708    ARF1          True   \n",
       "41194       61485   chr1  167553805  167553805   CREG1          True   \n",
       "41209       61511   chr1    6785454    6785454  CAMTA1          True   \n",
       "41327       61735   chr1   11262528   11262528    MTOR          True   \n",
       "41335       61745   chr1  151399587  151399587   PSMB4          True   \n",
       "\n",
       "       marker Tonsil      ragi  \n",
       "463            False  0.151603  \n",
       "467            False  0.147641  \n",
       "481            False  0.125370  \n",
       "514            False  0.200800  \n",
       "575            False  0.105316  \n",
       "...              ...       ...  \n",
       "41155          False  0.132179  \n",
       "41194          False  0.064979  \n",
       "41209          False  0.180674  \n",
       "41327          False  0.371236  \n",
       "41335          False  0.112182  \n",
       "\n",
       "[2187 rows x 8 columns]"
      ]
     },
     "execution_count": 45,
     "metadata": {},
     "output_type": "execute_result"
    }
   ],
   "source": [
    "bf_genes[fun_genes]"
   ]
  },
  {
   "cell_type": "code",
   "execution_count": 62,
   "id": "937ecdd8",
   "metadata": {},
   "outputs": [],
   "source": [
    "wnn = True"
   ]
  },
  {
   "cell_type": "code",
   "execution_count": 63,
   "id": "379826c7",
   "metadata": {},
   "outputs": [
    {
     "name": "stdout",
     "output_type": "stream",
     "text": [
      "1\n"
     ]
    },
    {
     "name": "stderr",
     "output_type": "stream",
     "text": [
      "/home/fransua/.miniconda3/envs/sc/lib/python3.10/site-packages/pynndescent/pynndescent_.py:339: NumbaWarning: Cannot cache compiled function \"generate_leaf_updates\" as it uses dynamic globals (such as ctypes pointers and large global arrays)\n",
      "  init_rp_tree(data, dist, current_graph, leaf_array)\n",
      "/home/fransua/.miniconda3/envs/sc/lib/python3.10/site-packages/pynndescent/pynndescent_.py:339: NumbaWarning: Cannot cache compiled function \"init_rp_tree\" as it uses dynamic globals (such as ctypes pointers and large global arrays)\n",
      "  init_rp_tree(data, dist, current_graph, leaf_array)\n",
      "/home/fransua/.miniconda3/envs/sc/lib/python3.10/site-packages/pynndescent/pynndescent_.py:341: NumbaWarning: Cannot cache compiled function \"init_random\" as it uses dynamic globals (such as ctypes pointers and large global arrays)\n",
      "  init_random(n_neighbors, data, current_graph, dist, rng_state)\n",
      "/home/fransua/.miniconda3/envs/sc/lib/python3.10/site-packages/pynndescent/pynndescent_.py:351: NumbaWarning: Cannot cache compiled function \"generate_graph_updates\" as it uses dynamic globals (such as ctypes pointers and large global arrays)\n",
      "  nn_descent_internal_low_memory_parallel(\n",
      "/home/fransua/.miniconda3/envs/sc/lib/python3.10/site-packages/pynndescent/pynndescent_.py:351: NumbaWarning: Cannot cache compiled function \"process_candidates\" as it uses dynamic globals (such as ctypes pointers and large global arrays)\n",
      "  nn_descent_internal_low_memory_parallel(\n",
      "/home/fransua/.miniconda3/envs/sc/lib/python3.10/site-packages/pynndescent/pynndescent_.py:339: NumbaWarning: Cannot cache compiled function \"generate_leaf_updates\" as it uses dynamic globals (such as ctypes pointers and large global arrays)\n",
      "  init_rp_tree(data, dist, current_graph, leaf_array)\n",
      "/home/fransua/.miniconda3/envs/sc/lib/python3.10/site-packages/pynndescent/pynndescent_.py:339: NumbaWarning: Cannot cache compiled function \"init_rp_tree\" as it uses dynamic globals (such as ctypes pointers and large global arrays)\n",
      "  init_rp_tree(data, dist, current_graph, leaf_array)\n",
      "/home/fransua/.miniconda3/envs/sc/lib/python3.10/site-packages/pynndescent/pynndescent_.py:341: NumbaWarning: Cannot cache compiled function \"init_random\" as it uses dynamic globals (such as ctypes pointers and large global arrays)\n",
      "  init_random(n_neighbors, data, current_graph, dist, rng_state)\n",
      "/home/fransua/.miniconda3/envs/sc/lib/python3.10/site-packages/pynndescent/pynndescent_.py:351: NumbaWarning: Cannot cache compiled function \"generate_graph_updates\" as it uses dynamic globals (such as ctypes pointers and large global arrays)\n",
      "  nn_descent_internal_low_memory_parallel(\n",
      "/home/fransua/.miniconda3/envs/sc/lib/python3.10/site-packages/pynndescent/pynndescent_.py:351: NumbaWarning: Cannot cache compiled function \"process_candidates\" as it uses dynamic globals (such as ctypes pointers and large global arrays)\n",
      "  nn_descent_internal_low_memory_parallel(\n"
     ]
    },
    {
     "name": "stdout",
     "output_type": "stream",
     "text": [
      "2\n",
      "3\n",
      "4\n"
     ]
    }
   ],
   "source": [
    "###########################################################################\n",
    "# WNN\n",
    "if wnn:\n",
    "    with threadpool_limits(limits=1, user_api='blas'):\n",
    "        print(1)\n",
    "        mu.pp.neighbors(mdata, key_added='wnn', n_neighbors=n_neighbors)\n",
    "        print(2)\n",
    "        wanted_leiden(mdata, n_leiden, neighbors_key='wnn', key_added='leiden_wnn')\n",
    "        print(3)\n",
    "        mu.tl.umap(mdata, neighbors_key='wnn', random_state=10)\n",
    "        print(4)\n",
    "        mdata.obsm[\"X_wnn_umap\"] = mdata.obsm[\"X_umap\"]"
   ]
  },
  {
   "cell_type": "code",
   "execution_count": 43,
   "id": "93b9790d",
   "metadata": {},
   "outputs": [
    {
     "name": "stderr",
     "output_type": "stream",
     "text": [
      "/home/fransua/.miniconda3/envs/sc/lib/python3.10/site-packages/scanpy/plotting/_tools/scatterplots.py:392: UserWarning: No data for colormapping provided via 'c'. Parameters 'cmap' will be ignored\n",
      "  cax = scatter(\n",
      "/home/fransua/.miniconda3/envs/sc/lib/python3.10/site-packages/scanpy/plotting/_tools/scatterplots.py:392: UserWarning: No data for colormapping provided via 'c'. Parameters 'cmap' will be ignored\n",
      "  cax = scatter(\n"
     ]
    },
    {
     "name": "stdout",
     "output_type": "stream",
     "text": [
      "\n",
      "Done.\n"
     ]
    },
    {
     "data": {
      "image/png": "[encoded data removed]",
      "text/plain": [
       "<Figure size 1200x1200 with 2 Axes>"
      ]
     },
     "metadata": {},
     "output_type": "display_data"
    },
    {
     "data": {
      "image/png": "[encoded data removed]",
      "text/plain": [
       "<Figure size 600x500 with 1 Axes>"
      ]
     },
     "metadata": {},
     "output_type": "display_data"
    }
   ],
   "source": [
    "###########################################################################\n",
    "# Summary plot\n",
    "# scale ADT values for plotting\n",
    "X = np.log1p(md_membrane.X)\n",
    "minv = min([v for v in X.flatten() if v])\n",
    "X[X==0] = minv\n",
    "X -= minv\n",
    "X /= max(X.flatten())\n",
    "adts = pd.DataFrame(X, index=md_membrane.obs.index, columns=adt_names)\n",
    "if samples[\"modality\"] == \"CITE\":\n",
    "    md_histones.obs = md_histones.obs[['n_counts', 'total_counts', 'leiden']] ###\n",
    "else:\n",
    "    md_histones.obs = md_histones.obs[['n_counts', 'bg_counts', 'leiden']] ###\n",
    "md_histones.obs = pd.merge(md_histones.obs, adts, left_index=True, right_index=True, how=\"left\")\n",
    "\n",
    "_ = plt.figure(figsize=(12, 12))\n",
    "axe = plt.subplot(5, 4, 1)\n",
    "sc.pl.umap(md_histones, size=15, ax=axe, color=\"leiden\", show=False)\n",
    "axe = plt.subplot(5, 4, 2)\n",
    "if wnn:\n",
    "    sc.pl.umap(mdata, size=15, ax=axe, color='leiden_wnn', show=False)\n",
    "else:\n",
    "    sc.tl.umap(md_membrane, random_state=10)\n",
    "    sc.pl.umap(md_membrane, size=15, ax=axe, color=\"leiden\", show=False)\n",
    "x = axe.get_xlim()[1]\n",
    "y = axe.get_ylim()[1]\n",
    "axe.text(x, y, f\"VMS: {v_measures['leiden']:.3f}\", va=\"top\", ha=\"right\", color=\"tab:red\")\n",
    "if wnn:\n",
    "    axe = plt.subplot(5, 4, 3)\n",
    "    mu.pl.embedding(mdata, basis=\"X_wnn_umap\", color=[\"histone:leiden\"], size=15, ax=axe, show=False)\n",
    "    axe = plt.subplot(5, 4, 4)\n",
    "    mu.pl.embedding(mdata, basis=\"X_wnn_umap\", color=\"ADT:leiden\", size=15, ax=axe, show=False)\n",
    "#for n, col in enumerate([c for c in adt_names if not c.endswith(\"IgD\")]):\n",
    "#    axe = plt.subplot(5, 4, n + 5)\n",
    "#    sc.pl.umap(md_histones, size=15, ax=axe, color=col, show=False, color_map=\"Greys\", vmin=-0.1, vmax=1.1)\n",
    "#    x = axe.get_xlim()[1]\n",
    "#    y = axe.get_ylim()[1]\n",
    "#    axe.text(x, y, f\"VMS: {v_measures[col]:.3f}\", va=\"top\", ha=\"right\", color=\"tab:red\")\n",
    "#plt.tight_layout()\n",
    "#plt.savefig(os.path.join(outdir, \"UMAP_on_V-measures.png\"))\n",
    "\n",
    "# Leiden numbers\n",
    "_ = plt.figure(figsize=(6, 5))\n",
    "h = plt.hist(md_histones.obs[\"leiden\"], bins=n_leiden, \n",
    "             range=(-0.5, n_leiden - 0.5), ec=\"tab:grey\", alpha=0.4)\n",
    "for y, x in zip(h[0], h[1]):\n",
    "    plt.text(x + 0.5, y, int(y), ha=\"center\")\n",
    "plt.ylabel(\"Number of cells\")\n",
    "plt.xlabel(\"# Leiden cluster\")\n",
    "plt.savefig(os.path.join(outdir, \"Leiden_plot.png\"))\n",
    "\n",
    "out = open(os.path.join(outdir, \"stats.tsv\"), \"w\")\n",
    "line = \"\\t\".join(str(v) for v in h[0])\n",
    "out.write(f\"COUNT\\t{line}\\n\")\n",
    "out.write(f\"TOTAL\\t{sum(h[0])}\\n\")\n",
    "out.write(f\"STDEV\\t{np.std(h[0])}\\n\")\n",
    "out.close()\n",
    "\n",
    "# save Muon object\n",
    "#if seed==None:\n",
    "\n",
    "#    print(f\" - Save Muon object and stats\")    \n",
    "#    mdata.write_h5mu(os.path.join(outdir, f\"{sampleID}.h5mu\"))\n",
    "#else:\n",
    "#    if seed<6:\n",
    "#        mdata.write_h5mu(os.path.join(outdir, f\"{sampleID}.h5mu\"))\n",
    "\n",
    "\n",
    "mdata.write_h5mu(os.path.join(outdir, f\"{sampleID}.h5mu\"))\n",
    "\n",
    "# compute jaccard index\n",
    "M1 = mdata['histone'].obsp['connectivities']\n",
    "M2 = mdata['ADT'].obsp['connectivities']\n",
    "\n",
    "stat1 = jacind(M1, M2)\n",
    "stat2 = jacind(M1, M2, binarize=True, p=1)\n",
    "\n",
    "out = open(os.path.join(outdir, f\"{sampleID}_stats.tsv\"), \"w\")\n",
    "out.write(f\"VMS\\t{vms}\\n\")\n",
    "out.write(f\"ARI\\t{ari}\\n\")\n",
    "out.write(f\"JAC1\\t{stat1}\\n\")\n",
    "out.write(f\"JAC2\\t{stat2}\\n\")\n",
    "out.close()\n",
    "\n",
    "###########################################################################\n",
    "# cells_clusters.csv\n",
    "if wnn:\n",
    "    mdata.obs[[\"histone:leiden\",\"ADT:leiden\",\"leiden_wnn\"]].to_csv(os.path.join(outdir, \"cells_clusters.csv\"))\n",
    "else:\n",
    "    mdata.obs[[\"histone:leiden\",\"ADT:leiden\"]].to_csv(os.path.join(outdir, \"cells_clusters.csv\"))\n",
    "\n",
    "print(f\"\\nDone.\")"
   ]
  },
  {
   "cell_type": "code",
   "execution_count": 103,
   "id": "1a773968",
   "metadata": {},
   "outputs": [],
   "source": [
    "    dpath = os.path.join('/scratch2/shared/CUTAG/data/', samples[\"modality\"])\n",
    "\n",
    "    genomic_sample = os.path.join(dpath, sampleID)\n"
   ]
  },
  {
   "cell_type": "code",
   "execution_count": 104,
   "id": "9dfe8004",
   "metadata": {},
   "outputs": [],
   "source": [
    "    adt_sampleID   = samples['ADT']\n",
    "    adt_sample     = os.path.join(dpath, adt_sampleID)\n",
    "    outdir         = \"/scratch2/shared/CUTAG/results11/\"+sampleID\n",
    "    \n",
    "    regress_count  = \"bg\"\n",
    "    feature_type   = \"peaks\"\n",
    "    n_neighbors    = 1\n",
    "    \n",
    "    seed           = 1\n",
    "    \n",
    "    min_cells      = samples['optimal params']['min_cells']\n",
    "    min_genes      = samples['optimal params']['min_genes']\n",
    "    max_genes      = samples['optimal params']['max_genes']\n",
    "    min_counts     = samples['optimal params']['min_counts']\n",
    "    max_counts     = samples['optimal params']['max_counts']\n",
    "    \n",
    "    min_genes_adt  = samples['optimal params']['min_genes_adt']\n",
    "    min_counts_adt = samples['optimal params']['min_counts_adt']\n",
    "    max_counts_adt = samples['optimal params']['max_counts_adt']\n",
    "    \n",
    "    if samples[\"modality\"] == \"CITE\":\n",
    "        max_mito = samples['optimal params']['max_mito']\n",
    "        min_n_genes = samples['optimal params']['min_n_genes']\n",
    "        max_n_genes = samples['optimal params']['max_n_genes']    \n",
    "    \n",
    "    n_leiden       = samples['optimal params']['n_leiden']\n",
    "    \n",
    "    rm_pca         = samples['optimal params']['rm_pca']\n",
    "\n",
    "    n_pcs          = samples['optimal params']['n_pcs']\n",
    "    \n",
    "    bg =\"bg\"\n",
    "    \n",
    "    # long long output directory name\n",
    "    dname = f\"LEIDEN{n_leiden}_{sampleID}_MIN-CELLS{min_cells}\"\n",
    "    dname += f\"_MIN-GENES{min_genes}_MAX-GENES{max_genes}\"\n",
    "    dname += f\"_MIN-COUNTS{min_counts}_MAX-COUNTS{max_counts}_PCA{rm_pca}\"\n",
    "    dname += f\"_NPCS{n_pcs}_NEIGHB{n_neighbors}_REGRESS-{regress_count}\"\n",
    "    if seed is not None:\n",
    "        dname += f\"_SEED{seed}\"\n",
    "    outdir          = os.path.join(outdir, dname)"
   ]
  },
  {
   "cell_type": "code",
   "execution_count": 105,
   "id": "51fb37b4",
   "metadata": {},
   "outputs": [],
   "source": [
    "# if os.path.exists(os.path.join(outdir, f\"{sampleID}.h5mu\")):\n",
    "#     print('Skipped...')\n",
    "#     exit()"
   ]
  },
  {
   "cell_type": "code",
   "execution_count": 106,
   "id": "8d5ddfa8",
   "metadata": {},
   "outputs": [
    {
     "name": "stdout",
     "output_type": "stream",
     "text": [
      "Processing 946\n",
      " - Loading Genomic library\n"
     ]
    }
   ],
   "source": [
    "print(f\"Processing {sampleID}\")\n",
    "\n",
    "# Load data\n",
    "### remove windows with less than five counts and then merge adjacent windows\n",
    "print(f\" - Loading Genomic library\")\n",
    "\n",
    "if samples[\"modality\"] == \"CITE\":\n",
    "    adata = sc.read(os.path.join(genomic_sample, \"CITE_rna.h5ad\"))\n",
    "else:\n",
    "    adata = load_cellranger(genomic_sample, feature_type=feature_type, \n",
    "                          dtype=float)"
   ]
  },
  {
   "cell_type": "code",
   "execution_count": 107,
   "id": "0888606f",
   "metadata": {},
   "outputs": [
    {
     "name": "stdout",
     "output_type": "stream",
     "text": [
      " - Filter genomic features in few cells\n"
     ]
    }
   ],
   "source": [
    "# Filter bins in few cells\n",
    "print(f\" - Filter genomic features in few cells\")\n",
    "###########################################################################\n",
    "# Filter Histones\n",
    "\n",
    "# Cell barcodes with <1000 or >60000 UMIs\n",
    "if min_counts:\n",
    "    sc.pp.filter_cells(adata, min_counts=min_counts)\n",
    "    \n",
    "if max_counts:\n",
    "    sc.pp.filter_cells(adata, max_counts=max_counts)\n",
    "    \n",
    "# # <50 or >700 genes detected\n",
    "if min_genes:\n",
    "    sc.pp.filter_cells(adata, min_genes=min_genes)\n",
    "    \n",
    "if max_genes:\n",
    "    sc.pp.filter_cells(adata, max_genes=max_genes)\n",
    "    \n",
    "# removing genes expressed in fewer than 3 cells\n",
    "if min_cells:\n",
    "    sc.pp.filter_genes(adata, min_cells=min_cells)"
   ]
  },
  {
   "cell_type": "code",
   "execution_count": 108,
   "id": "468ae803",
   "metadata": {},
   "outputs": [],
   "source": [
    "if samples[\"modality\"] == \"CITE\":\n",
    "\n",
    "    adata.var['mt'] = adata.var_names.str.startswith('MT-')  # annotate the group of mitochondrial genes as 'mt'\n",
    "    sc.pp.calculate_qc_metrics(adata, qc_vars=['mt'], percent_top=None, log1p=False, inplace=True)\n",
    "    adata = adata[adata.obs.pct_counts_mt < max_mito, :]\n",
    "    adata = adata[adata.obs.n_genes_by_counts > min_n_genes, :]\n",
    "    adata = adata[adata.obs.n_genes_by_counts < max_n_genes, :]"
   ]
  },
  {
   "cell_type": "code",
   "execution_count": 109,
   "id": "5284f7e0",
   "metadata": {
    "scrolled": true
   },
   "outputs": [
    {
     "name": "stdout",
     "output_type": "stream",
     "text": [
      " - TF-IDF normalization on genomic library\n"
     ]
    }
   ],
   "source": [
    "###########################################################################\n",
    "## GENOMIC PROCESSING\n",
    "if samples[\"modality\"] == \"CITE\":\n",
    "    # Create a Scrublet object, fit the data to it and filter out predicted doublets\n",
    "    print(f\" - log(ygc /sc + 1) normalization on genomic library\")\n",
    "    scrub = scr.Scrublet(adata.X)\n",
    "    doublet_scores, predicted_doublets = scrub.scrub_doublets()\n",
    "    adata = adata[~predicted_doublets]\n",
    "    L = adata.obs[\"total_counts\"].sum()/len(adata)\n",
    "    adata.obs[\"s\"] = adata.obs[\"total_counts\"]/L\n",
    "    mat = adata.X.toarray()\n",
    "    mat_div = mat/adata.obs[\"s\"][:, np.newaxis]\n",
    "    adata.X = mat_div # do not sum 1 because log1p already sums it\n",
    "    sc.pp.log1p(adata)\n",
    "    \n",
    "else:\n",
    "    # Normalize by TF-IDF\n",
    "    print(f\" - TF-IDF normalization on genomic library\")\n",
    "    normalize_TFIDF(adata, os.path.join(genomic_sample, \"outs\", \n",
    "                                          \"mapped_read_per_barcode.txt\"))"
   ]
  },
  {
   "cell_type": "code",
   "execution_count": 110,
   "id": "be0b9338",
   "metadata": {},
   "outputs": [
    {
     "name": "stdout",
     "output_type": "stream",
     "text": [
      " - Loading ADTs\n",
      "/scratch2/shared/CUTAG/data/scCUTnTAG-PRO/947/ADTs/ADT_matrix.tsv\n"
     ]
    }
   ],
   "source": [
    "###########################################################################\n",
    "# Merge ADTS\n",
    "print(f\" - Loading ADTs\")\n",
    "print(os.path.join(adt_sample, \"ADTs\", \"ADT_matrix.tsv\"))\n",
    "adts_file = os.path.join(adt_sample, \"ADTs\", \"ADT_matrix.tsv\")\n",
    "# TODO: what is this?\n",
    "if sampleID.startswith(\"GSM\"):\n",
    "    ad_adts = load_ADTs(adts_file, adata, modality= samples[\"modality\"], transpose=True)\n",
    "else:\n",
    "    ad_adts = load_ADTs(adts_file, adata, modality= samples[\"modality\"])"
   ]
  },
  {
   "cell_type": "code",
   "execution_count": 111,
   "id": "06d7c0bc",
   "metadata": {},
   "outputs": [
    {
     "name": "stdout",
     "output_type": "stream",
     "text": [
      " - Filter ADTs with few counts\n"
     ]
    }
   ],
   "source": [
    "###########################################################################\n",
    "# Filter ADTs\n",
    "print(f\" - Filter ADTs with few counts\")\n",
    "\n",
    "if min_genes_adt:\n",
    "    sc.pp.filter_cells(ad_adts, min_genes=min_genes_adt)\n",
    "    \n",
    "if min_counts_adt:\n",
    "    sc.pp.filter_cells(ad_adts, min_counts=min_counts_adt)\n",
    "    \n",
    "if max_counts_adt:\n",
    "    sc.pp.filter_cells(ad_adts, max_counts=max_counts_adt)\n",
    "\n",
    "# WARNING: highly specific to Satija dataset:\n",
    "if samples[\"lab\"]==\"Satija\":\n",
    "    ad_adts.obs.index = [f\"{v[:-2]}-1\" for v in ad_adts.obs.index]"
   ]
  },
  {
   "cell_type": "code",
   "execution_count": 112,
   "id": "d9e21047",
   "metadata": {},
   "outputs": [],
   "source": [
    "###########################################################################\n",
    "## BOOTSTRAPPING\n",
    "if seed:\n",
    "    mat = ad_adts.X\n",
    "\n",
    "    np.random.seed(seed)\n",
    "\n",
    "    # Generate a list of 10 random numbers in the range [0, 250]\n",
    "    substitutes = np.random.choice(range(ad_adts.X.shape[1]), int(ad_adts.X.shape[1]), replace=True)\n",
    "    mat2 = np.zeros(ad_adts.X.shape)\n",
    "    \n",
    "    for i in range(len(substitutes)):\n",
    "        mat2[:,i] = mat[:,substitutes[i]]\n",
    "\n",
    "    ad_adts.X = mat2"
   ]
  },
  {
   "cell_type": "code",
   "execution_count": 113,
   "id": "cd814f6a",
   "metadata": {},
   "outputs": [],
   "source": [
    "###########################################################################\n",
    "# Merge ADT with genomic library\n",
    "ad_adts.obs = pd.merge(ad_adts.obs, adata.obs, how=\"inner\",\n",
    "                       left_index=True, right_index=True)"
   ]
  },
  {
   "cell_type": "code",
   "execution_count": 114,
   "id": "ddac7e90",
   "metadata": {},
   "outputs": [
    {
     "name": "stdout",
     "output_type": "stream",
     "text": [
      " - Normalize ADTs by genomic background\n"
     ]
    },
    {
     "name": "stderr",
     "output_type": "stream",
     "text": [
      "/tmp/ipykernel_23223/2949314746.py:30: FutureWarning: Support for multi-dimensional indexing (e.g. `obj[:, None]`) is deprecated and will be removed in a future version.  Convert to a numpy array before indexing instead.\n",
      "  ad_adts.X = np.exp(np.log1p(ad_adts.X) / ad_adts.obs[\"correction\"][:,None]) - 1\n"
     ]
    }
   ],
   "source": [
    "    ###########################################################################\n",
    "    # Normalize each cell ADT count by the genomic-library background\n",
    "    if regress_count == \"bg\":\n",
    "        if samples[\"modality\"] == \"CITE\":\n",
    "            ad_adts.obs[\"bg_counts\"] = ad_adts.obs[\"total_counts\"]\n",
    "        else:\n",
    "            if bg == \"bg\":\n",
    "                process_line = lambda barcode, bg_count: (barcode, int(bg_count)) \n",
    "                bgpath = os.path.join(genomic_sample, \"outs\", \"mapped_read_per_barcode.txt\")\n",
    "                bg_dict = dict(process_line(*l.split()) for l in open(bgpath, \"r\"))\n",
    "                ad_adts.obs[\"bg_counts\"] = ad_adts.obs.index.map(bg_dict)\n",
    "            elif bg == \"total_genomic\":\n",
    "                ad_adts.obs[\"bg_counts\"] = adata.obs[\"n_counts\"]\n",
    "        print(f\" - Normalize ADTs by genomic background\")\n",
    "        # Load the data\n",
    "        x = np.log1p(np.sum(ad_adts.X, axis=1))\n",
    "        y = np.log1p(ad_adts.obs[\"bg_counts\"])\n",
    "        # Create a model for fitting.\n",
    "        linear_model = odr.Model(linear_func)\n",
    "        # Create a RealData object using our initiated data from above.\n",
    "        data = odr.RealData(x, y)\n",
    "        # Set up ODR with the model and data.\n",
    "        interp = odr.ODR(data, linear_model, beta0=[1., 1.])\n",
    "        # Run the regression.\n",
    "        out = interp.run()\n",
    "        slope, intercept = out.beta\n",
    "        ad_adts.obs[\"adt_count\"] = np.sum(ad_adts.X, axis=1)\n",
    "        ad_adts.obs[\"correction\"] = intercept + slope * np.log1p(ad_adts.obs[\"adt_count\"])\n",
    "        # we apply correction on the log +1 of the X matrix, then come back to original values (with exp)\n",
    "        ad_adts.X = np.exp(np.log1p(ad_adts.X) / ad_adts.obs[\"correction\"][:,None]) - 1\n",
    "    \n",
    "        # old shit\n",
    "        # sc.pp.log1p(ad_adts)                                              # Eixo u a fet el Xavi\n",
    "        # ad_adts.X /= np.log(ad_adts.obs[\"bg_counts\"]).to_numpy()[:,None]  # Eixo u a fet el Xavi\n",
    "        # ad_adts.X *= np.nanmedian(np.log(ad_adts.obs[\"bg_counts\"]))       # Eixo u a fet el Xavi\n",
    "        # ad_adts.X = np.exp(ad_adts.X)                                     # Eixo u a fet el Xavi\n",
    "        # ad_adts.X = ad_adts.X - 1                                         # Eixo u a fet el Xavi\n",
    "    elif regress_count == \"no\":\n",
    "        print(f\" - no ADTs normalization by droplet\")\n",
    "    else:\n",
    "        raise NotImplementedError(\n",
    "            f\"ERROR: regrerssion {regress_count} not implemented\")"
   ]
  },
  {
   "cell_type": "code",
   "execution_count": 119,
   "id": "ac0da15c",
   "metadata": {},
   "outputs": [
    {
     "data": {
      "text/plain": [
       "array([[0.06672263, 0.05920959, 0.13284666, ..., 0.0821715 , 0.06672263,\n",
       "        0.05920959],\n",
       "       [0.        , 0.0182717 , 0.02257899, ..., 0.01368788, 0.        ,\n",
       "        0.0182717 ],\n",
       "       [0.07038924, 0.10162456, 0.10195585, ..., 0.07046211, 0.07038924,\n",
       "        0.10162456],\n",
       "       ...,\n",
       "       [0.        , 0.06001291, 0.01869288, ..., 0.        , 0.        ,\n",
       "        0.06001291],\n",
       "       [0.        , 0.0424228 , 0.01895537, ..., 0.        , 0.        ,\n",
       "        0.0424228 ],\n",
       "       [0.        , 0.05280795, 0.02405003, ..., 0.        , 0.        ,\n",
       "        0.05280795]])"
      ]
     },
     "execution_count": 119,
     "metadata": {},
     "output_type": "execute_result"
    }
   ],
   "source": [
    "np.exp(np.log1p(ad_adts.X) / ad_adts.obs[\"correction\"].to_numpy()[:,None]) - 1"
   ]
  },
  {
   "cell_type": "code",
   "execution_count": 115,
   "id": "ef87a321",
   "metadata": {},
   "outputs": [
    {
     "name": "stdout",
     "output_type": "stream",
     "text": [
      " - Normalize ADTs by CLR\n"
     ]
    }
   ],
   "source": [
    "print(f\" - Normalize ADTs by CLR\")\n",
    "normalize_CLR(ad_adts)"
   ]
  },
  {
   "cell_type": "code",
   "execution_count": 83,
   "id": "71344ee3",
   "metadata": {},
   "outputs": [],
   "source": [
    "# scale data\n",
    "sc.pp.normalize_total(ad_adts, target_sum=1_000_000)\n",
    "sc.pp.normalize_total(adata  , target_sum=1_000_000)"
   ]
  },
  {
   "cell_type": "code",
   "execution_count": 84,
   "id": "9a531993",
   "metadata": {},
   "outputs": [
    {
     "name": "stdout",
     "output_type": "stream",
     "text": [
      " - Merge Genomic and ADT data into Muon object\n",
      " - Computing PCAs\n",
      " - Computing neighbors\n",
      " - Leiden clustering histones (5 wanted)\n",
      " - Leiden clustering ADTs (5 wanted)\n",
      " - V-meassure score: 0.005726288946170267\n",
      " - Adjusted Randome score: -0.0030311530929974986\n",
      " - Plotting\n"
     ]
    },
    {
     "data": {
      "image/png": "[encoded data removed]",
      "text/plain": [
       "<Figure size 640x480 with 1 Axes>"
      ]
     },
     "metadata": {},
     "output_type": "display_data"
    }
   ],
   "source": [
    "###########################################################################\n",
    "# ANALYSIS\n",
    "###########################################################################\n",
    "os.system(f\"mkdir -p {outdir}\")\n",
    "\n",
    "# Merge with MUON\n",
    "print(f\" - Merge Genomic and ADT data into Muon object\")\n",
    "mdata = mu.MuData({\"histone\": adata, \"ADT\": ad_adts})\n",
    "\n",
    "mdata.var_names_make_unique()\n",
    "mu.pp.intersect_obs(mdata)\n",
    "\n",
    "###########################################################################\n",
    "# PCA\n",
    "print(f\" - Computing PCAs\")\n",
    "md_histones = mdata.mod[\"histone\"]\n",
    "md_membrane = mdata.mod[\"ADT\"]\n",
    "\n",
    "sc.tl.pca(md_membrane, svd_solver='arpack')\n",
    "sc.tl.pca(md_histones, svd_solver='arpack')\n",
    "if rm_pca:\n",
    "    md_histones.obsm['X_pca'] = md_histones.obsm['X_pca'][:,1:]\n",
    "\n",
    "num_cells = len(md_histones.obs_names)\n",
    "n_neighbors = int(np.sqrt(num_cells) * n_neighbors)\n",
    "\n",
    "print(f\" - Computing neighbors\")\n",
    "sc.pp.neighbors(md_histones, n_pcs=n_pcs, n_neighbors=n_neighbors)\n",
    "sc.pp.neighbors(md_membrane, n_pcs=n_pcs, n_neighbors=n_neighbors)\n",
    "\n",
    "print(f\" - Leiden clustering histones ({n_leiden} wanted)\")\n",
    "md_histones = wanted_leiden(md_histones, n_leiden)\n",
    "print(f\" - Leiden clustering ADTs ({n_leiden} wanted)\")\n",
    "md_membrane = wanted_leiden(md_membrane, n_leiden)\n",
    "\n",
    "vms = v_measure_score(md_membrane.obs['leiden'], md_histones.obs['leiden'])\n",
    "ari = adjusted_rand_score(md_membrane.obs['leiden'], md_histones.obs['leiden'])\n",
    "print(f\" - V-meassure score: {vms}\")\n",
    "print(f\" - Adjusted Randome score: {ari}\")\n",
    "v_measures = {}\n",
    "v_measures['leiden'] = vms\n",
    "\n",
    "print(f\" - Plotting\")\n",
    "sc.tl.umap(md_histones)\n",
    "# plot PCA\n",
    "sc.pl.pca_variance_ratio(md_histones, log=True, show=False)\n",
    "plt.savefig(os.path.join(outdir, \"genomic_pca-weights_plot.png\"))"
   ]
  },
  {
   "cell_type": "code",
   "execution_count": 85,
   "id": "9b3caba5",
   "metadata": {},
   "outputs": [],
   "source": [
    "###########################################################################\n",
    "# compute V-measure Score\n",
    "adt_names = md_membrane.var_names\n",
    "\n",
    "out = open(os.path.join(outdir, \"V-measures.tsv\"), \"w\")\n",
    "out.write(f\"leiden\\t{v_measures['leiden']}\\n\")\n",
    "# We classify cells according to their abundance for each of its ADTs\n",
    "for col, adt in  enumerate(adt_names):\n",
    "    # cells with a total number of ADT in the top  2% will be in cluster 7\n",
    "    true_cluster  = (md_membrane.X[:,col] <= np.percentile(md_membrane.X[:,col],  2)).astype(int)\n",
    "    # cells with a total number of ADT in the top 25% will be in cluster 6\n",
    "    true_cluster += (md_membrane.X[:,col] <= np.percentile(md_membrane.X[:,col], 25)).astype(int)\n",
    "    # cells with a total number of ADT in the top 50% will be in cluster 5\n",
    "    true_cluster += (md_membrane.X[:,col] <= np.percentile(md_membrane.X[:,col], 50)).astype(int)\n",
    "    # cells with a total number of ADT in the top 70% will be in cluster 4\n",
    "    true_cluster += (md_membrane.X[:,col] <= np.percentile(md_membrane.X[:,col], 70)).astype(int)\n",
    "    # cells with a total number of ADT in the top 85% will be in cluster 3\n",
    "    true_cluster += (md_membrane.X[:,col] <= np.percentile(md_membrane.X[:,col], 85)).astype(int)\n",
    "    # cells with a total number of ADT in the top 95% will be in cluster 2\n",
    "    true_cluster += (md_membrane.X[:,col] <= np.percentile(md_membrane.X[:,col], 95)).astype(int)\n",
    "    # cells with a total number of ADT in the top 98% will be in cluster 1\n",
    "    true_cluster += (md_membrane.X[:,col] <= np.percentile(md_membrane.X[:,col], 98)).astype(int)\n",
    "    # cells with a total number of ADT in the bottom 2% will be in cluster 0\n",
    "\n",
    "    obs_cluster = md_histones.obs[\"leiden\"]\n",
    "    # This classification is compared to the leiden \n",
    "    vms = v_measure_score(true_cluster, obs_cluster)\n",
    "    v_measures[adt] = vms\n",
    "    out.write(f\"{col}\\t{vms}\\n\")\n",
    "out.close()"
   ]
  },
  {
   "cell_type": "code",
   "execution_count": 86,
   "id": "37187ae4",
   "metadata": {},
   "outputs": [
    {
     "name": "stdout",
     "output_type": "stream",
     "text": [
      " - Computing RAGI\n",
      "    => 57 marker genes in Tonsil, \n",
      "    => 2130 housekeeping genes in Tonsil, \n",
      "    - loading fragments\n",
      "    - preprocessing -> gene score\n",
      "    - Getting GINI of Gene scores -> RAGI\n"
     ]
    },
    {
     "name": "stderr",
     "output_type": "stream",
     "text": [
      "/tmp/ipykernel_23223/4130931558.py:125: RuntimeWarning: invalid value encountered in double_scalars\n",
      "  return sum(abs(xi - xj) for xi, xj in permutations(tmp, 2)) / (2 * n**2 * av)\n"
     ]
    }
   ],
   "source": [
    "###########################################################################\n",
    "if samples[\"modality\"] == \"CITE\":\n",
    "    adata = mdata.mod[\"histone\"]\n",
    "\n",
    "    df = pd.DataFrame(adata.X, columns = [\"\".join(gene.split(\":\")[1:]) for gene in adata.var_names])\n",
    "\n",
    "    df[\"leiden\"] =  mdata.mod[\"ADT\"].obs[\"leiden\"].tolist()\n",
    "\n",
    "    num_cells_cluster = mdata.mod[\"ADT\"].obs[\"leiden\"].value_counts().to_dict()\n",
    "\n",
    "    num_cells_cluster\n",
    "\n",
    "    bf_genes = bf.from_any(pd.read_csv(\n",
    "        '/scratch2/shared/CUTAG/complementary_data/hg38_genes.tsv', sep='\\t'))\n",
    "\n",
    "    # add info about housekeeping genes\n",
    "    fh = open('/scratch2/shared/CUTAG/complementary_data/Housekeeping_GenesHuman.csv')\n",
    "    next(fh)\n",
    "    bf_genes['housekeeping'] = bf_genes['name'].isin(\n",
    "        set([l.split(';')[1].strip() for l in fh]))\n",
    "\n",
    "    marker_genes = pd.read_csv('/scratch2/shared/CUTAG/complementary_data/Cell_marker_Human.txt', sep='\\t')\n",
    "\n",
    "    tissue = samples['tissue_type']\n",
    "    tmp = set(marker_genes[(marker_genes['cell_type'   ] == 'Normal cell') & \n",
    "                            (marker_genes['tissue_type'] == tissue) & \n",
    "                            (marker_genes['Symbol'] > '')]['Symbol'])\n",
    "    bf_genes[f'marker {tissue}'] = bf_genes['name'].isin(tmp)\n",
    "\n",
    "    # Remove from HK and from markers genes that are in both categories\n",
    "    tmp = [False] * len(bf_genes)\n",
    "    tmp |= (bf_genes['housekeeping']) & (bf_genes[f'marker {tissue}'])\n",
    "    bf_genes.loc[tmp, f'marker {tissue}'] = False\n",
    "    bf_genes.loc[tmp, 'housekeeping'] = False\n",
    "\n",
    "    print(f\"    => {sum(bf_genes[f'marker {tissue}'])} marker genes in {tissue}, \")\n",
    "    print(f\"    => {sum(bf_genes['housekeeping'])} housekeeping genes in {tissue}, \")\n",
    "\n",
    "    df = df.groupby(\"leiden\").sum()\n",
    "\n",
    "    # iterate over rows and divide \"MAFIP\" by dictionary value\n",
    "    for index, row in df.iterrows():\n",
    "        df.loc[index] = row / num_cells_cluster[index]\n",
    "\n",
    "    fun_genes = bf_genes['housekeeping'].copy()\n",
    "    fun_genes |= bf_genes[f'marker {tissue}']\n",
    "\n",
    "    ragis=dict()\n",
    "\n",
    "    for gene in bf_genes[(bf_genes[\"marker Peripheral blood\"] == True) | (bf_genes[\"housekeeping\"] == True)][\"name\"]:\n",
    "        try:\n",
    "            ragis[gene] = gini(df[gene].to_numpy())\n",
    "        except:\n",
    "            print(\"\")\n",
    "\n",
    "    bf_genes['ragi'] = bf_genes['name'].map(ragis)\n",
    "    bf_genes[fun_genes].to_csv(os.path.join(outdir, \"RAGI_scores.tsv\"), sep='\\t')\n",
    "\n",
    "else:\n",
    "    # load GENES\n",
    "    print(\" - Computing RAGI\")\n",
    "    bf_genes = bf.from_any(pd.read_csv(\n",
    "        '/scratch2/shared/CUTAG/complementary_data/hg38_genes.tsv', sep='\\t'))\n",
    "\n",
    "    # add info about housekeeping genes\n",
    "    fh = open('/scratch2/shared/CUTAG/complementary_data/Housekeeping_GenesHuman.csv')\n",
    "    next(fh)\n",
    "    bf_genes['housekeeping'] = bf_genes['name'].isin(\n",
    "        set([l.split(';')[1].strip() for l in fh]))\n",
    "\n",
    "    marker_genes = pd.read_csv('/scratch2/shared/CUTAG/complementary_data/Cell_marker_Human.txt', sep='\\t')\n",
    "\n",
    "    tissue = samples['tissue_type']\n",
    "    tmp = set(marker_genes[(marker_genes['cell_type'   ] == 'Normal cell') & \n",
    "                            (marker_genes['tissue_type'] == tissue) & \n",
    "                            (marker_genes['Symbol'] > '')]['Symbol'])\n",
    "    bf_genes[f'marker {tissue}'] = bf_genes['name'].isin(tmp)\n",
    "\n",
    "    # Remove from HK and from markers genes that are in both categories\n",
    "    tmp = [False] * len(bf_genes)\n",
    "    tmp |= (bf_genes['housekeeping']) & (bf_genes[f'marker {tissue}'])\n",
    "    bf_genes.loc[tmp, f'marker {tissue}'] = False\n",
    "    bf_genes.loc[tmp, 'housekeeping'] = False\n",
    "\n",
    "    print(f\"    => {sum(bf_genes[f'marker {tissue}'])} marker genes in {tissue}, \")\n",
    "    print(f\"    => {sum(bf_genes['housekeeping'])} housekeeping genes in {tissue}, \")\n",
    "    \n",
    "    ###########################################################################\n",
    "    # RAGI on ADTs\n",
    "    fragments_path = os.path.join(genomic_sample, 'outs', 'fragments.tsv')\n",
    "\n",
    "    fun_genes = bf_genes['housekeeping'].copy()\n",
    "    fun_genes |= bf_genes[f'marker {tissue}']\n",
    "    ragis = ragi_score(fragments_path, md_membrane, bf_genes[fun_genes], offset=10_000, clustering=\"leiden\")\n",
    "    bf_genes['ragi'] = bf_genes['name'].map(ragis)\n",
    "    bf_genes[fun_genes].to_csv(os.path.join(outdir, \"RAGI_scores.tsv\"), sep='\\t')"
   ]
  },
  {
   "cell_type": "code",
   "execution_count": 87,
   "id": "7fed9a98",
   "metadata": {},
   "outputs": [],
   "source": [
    "###########################################################################\n",
    "# WNN\n",
    "if wnn:\n",
    "    mu.pp.neighbors(mdata, key_added='wnn', n_neighbors=n_neighbors)\n",
    "    wanted_leiden(mdata, n_leiden, neighbors_key='wnn', key_added='leiden_wnn')\n",
    "    mu.tl.umap(mdata, neighbors_key='wnn', random_state=10)\n",
    "    mdata.obsm[\"X_wnn_umap\"] = mdata.obsm[\"X_umap\"]"
   ]
  },
  {
   "cell_type": "code",
   "execution_count": 88,
   "id": "334e4300",
   "metadata": {},
   "outputs": [],
   "source": [
    "    \n",
    "###########################################################################\n",
    "# Summary plot\n",
    "# scale ADT values for plotting\n",
    "X = np.log1p(md_membrane.X)\n",
    "minv = min([v for v in X.flatten() if v])\n",
    "X[X==0] = minv\n",
    "X -= minv\n",
    "X /= max(X.flatten())"
   ]
  },
  {
   "cell_type": "code",
   "execution_count": 89,
   "id": "53d1b75c",
   "metadata": {},
   "outputs": [],
   "source": [
    "adts = pd.DataFrame(X, index=md_membrane.obs.index, columns=adt_names)\n",
    "if samples[\"modality\"] == \"CITE\":\n",
    "    md_histones.obs = md_histones.obs[['n_counts', 'total_counts', 'leiden']] ###\n",
    "else:\n",
    "    md_histones.obs = md_histones.obs[['n_counts', 'bg_counts', 'leiden']] ###\n",
    "md_histones.obs = pd.merge(md_histones.obs, adts, left_index=True, right_index=True, how=\"left\")"
   ]
  },
  {
   "cell_type": "code",
   "execution_count": 90,
   "id": "f307d5b1",
   "metadata": {},
   "outputs": [
    {
     "data": {
      "image/png": "[encoded data removed]",
      "text/plain": [
       "<Figure size 1200x1200 with 2 Axes>"
      ]
     },
     "metadata": {},
     "output_type": "display_data"
    }
   ],
   "source": [
    "_ = plt.figure(figsize=(12, 12))\n",
    "axe = plt.subplot(5, 4, 1)\n",
    "sc.pl.umap(md_histones, size=15, ax=axe, color=\"leiden\", show=False)\n",
    "axe = plt.subplot(5, 4, 2)\n",
    "if wnn:\n",
    "    sc.pl.umap(mdata, size=15, ax=axe, color='leiden_wnn', show=False)\n",
    "else:\n",
    "    sc.tl.umap(md_membrane, random_state=10)\n",
    "    sc.pl.umap(md_membrane, size=15, ax=axe, color=\"leiden\", show=False)\n",
    "x = axe.get_xlim()[1]\n",
    "y = axe.get_ylim()[1]\n",
    "axe.text(x, y, f\"VMS: {v_measures['leiden']:.3f}\", va=\"top\", ha=\"right\", color=\"tab:red\")\n",
    "if wnn:\n",
    "    axe = plt.subplot(5, 4, 3)\n",
    "    mu.pl.embedding(mdata, basis=\"X_wnn_umap\", color=[\"histone:leiden\"], size=15, ax=axe, show=False)\n",
    "    axe = plt.subplot(5, 4, 4)\n",
    "    mu.pl.embedding(mdata, basis=\"X_wnn_umap\", color=\"ADT:leiden\", size=15, ax=axe, show=False)"
   ]
  },
  {
   "cell_type": "code",
   "execution_count": 91,
   "id": "095c0a56",
   "metadata": {},
   "outputs": [
    {
     "name": "stdout",
     "output_type": "stream",
     "text": [
      " - Save Muon object and stats\n",
      "\n",
      "Done.\n"
     ]
    },
    {
     "data": {
      "image/png": "[encoded data removed]",
      "text/plain": [
       "<Figure size 600x500 with 1 Axes>"
      ]
     },
     "metadata": {},
     "output_type": "display_data"
    }
   ],
   "source": [
    "# for n, col in enumerate([c for c in adt_names if not c.endswith(\"IgD\")]):\n",
    "#     axe = plt.subplot(5, 4, n + 5)\n",
    "#     sc.pl.umap(md_histones, size=15, ax=axe, color=col, show=False, color_map=\"Greys\", vmin=-0.1, vmax=1.1)\n",
    "#     x = axe.get_xlim()[1]\n",
    "#     y = axe.get_ylim()[1]\n",
    "#     axe.text(x, y, f\"VMS: {v_measures[col]:.3f}\", va=\"top\", ha=\"right\", color=\"tab:red\")\n",
    "# plt.tight_layout()\n",
    "# plt.savefig(os.path.join(outdir, \"UMAP_on_V-measures.png\"))\n",
    "\n",
    "# Leiden numbers\n",
    "_ = plt.figure(figsize=(6, 5))\n",
    "h = plt.hist(md_histones.obs[\"leiden\"], bins=n_leiden, \n",
    "             range=(-0.5, n_leiden - 0.5), ec=\"tab:grey\", alpha=0.4)\n",
    "for y, x in zip(h[0], h[1]):\n",
    "    plt.text(x + 0.5, y, int(y), ha=\"center\")\n",
    "plt.ylabel(\"Number of cells\")\n",
    "plt.xlabel(\"# Leiden cluster\")\n",
    "plt.savefig(os.path.join(outdir, \"Leiden_plot.png\"))\n",
    "\n",
    "out = open(os.path.join(outdir, \"stats.tsv\"), \"w\")\n",
    "line = \"\\t\".join(str(v) for v in h[0])\n",
    "out.write(f\"COUNT\\t{line}\\n\")\n",
    "out.write(f\"TOTAL\\t{sum(h[0])}\\n\")\n",
    "out.write(f\"STDEV\\t{np.std(h[0])}\\n\")\n",
    "out.close()\n",
    "\n",
    "# save Muon object\n",
    "print(f\" - Save Muon object and stats\")    \n",
    "mdata.write_h5mu(os.path.join(outdir, f\"{sampleID}.h5mu\"))\n",
    "\n",
    "# compute jaccard index\n",
    "M1 = mdata['histone'].obsp['connectivities']\n",
    "M2 = mdata['ADT'].obsp['connectivities']\n",
    "\n",
    "stat1 = jacind(M1, M2)\n",
    "stat2 = jacind(M1, M2, binarize=True, p=1)\n",
    "\n",
    "out = open(os.path.join(outdir, f\"{sampleID}_stats.tsv\"), \"w\")\n",
    "out.write(f\"VMS\\t{vms}\\n\")\n",
    "out.write(f\"ARI\\t{ari}\\n\")\n",
    "out.write(f\"JAC1\\t{stat1}\\n\")\n",
    "out.write(f\"JAC2\\t{stat2}\\n\")\n",
    "out.close()\n",
    "\n",
    "\n",
    "print(f\"\\nDone.\")"
   ]
  },
  {
   "cell_type": "code",
   "execution_count": 92,
   "id": "ab61aede",
   "metadata": {},
   "outputs": [],
   "source": [
    "###########################################################################\n",
    "# cells_clusters.csv\n",
    "if wnn:\n",
    "    mdata.obs[[\"histone:leiden\",\"ADT:leiden\",\"leiden_wnn\"]].to_csv(os.path.join(outdir, \"cells_clusters.csv\"))\n",
    "else:\n",
    "    mdata.obs[[\"histone:leiden\",\"ADT:leiden\"]].to_csv(os.path.join(outdir, \"cells_clusters.csv\"))"
   ]
  },
  {
   "cell_type": "code",
   "execution_count": null,
   "id": "38f53f6a",
   "metadata": {},
   "outputs": [],
   "source": []
  }
 ],
 "metadata": {
  "kernelspec": {
   "display_name": "Python [conda env:sc]",
   "language": "python",
   "name": "conda-env-sc-py"
  },
  "language_info": {
   "codemirror_mode": {
    "name": "ipython",
    "version": 3
   },
   "file_extension": ".py",
   "mimetype": "text/x-python",
   "name": "python",
   "nbconvert_exporter": "python",
   "pygments_lexer": "ipython3",
   "version": "3.10.11"
  },
  "toc": {
   "base_numbering": 1,
   "nav_menu": {},
   "number_sections": false,
   "sideBar": true,
   "skip_h1_title": false,
   "title_cell": "Table of Contents",
   "title_sidebar": "Contents",
   "toc_cell": false,
   "toc_position": {
    "height": "calc(100% - 180px)",
    "left": "10px",
    "top": "150px",
    "width": "256px"
   },
   "toc_section_display": true,
   "toc_window_display": true
  }
 },
 "nbformat": 4,
 "nbformat_minor": 5
}
